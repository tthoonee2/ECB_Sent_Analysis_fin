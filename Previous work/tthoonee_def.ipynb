{
 "cells": [
  {
   "cell_type": "markdown",
   "metadata": {},
   "source": [
    "# Sentiment Analysis of Markets"
   ]
  },
  {
   "cell_type": "markdown",
   "metadata": {},
   "source": [
    "We begin by importing all the necessary libraries for this project"
   ]
  },
  {
   "cell_type": "code",
   "execution_count": 2,
   "metadata": {},
   "outputs": [
    {
     "name": "stderr",
     "output_type": "stream",
     "text": [
      "[nltk_data] Downloading package names to\n",
      "[nltk_data]     C:\\Users\\apuza\\AppData\\Roaming\\nltk_data...\n",
      "[nltk_data]   Package names is already up-to-date!\n",
      "[nltk_data] Downloading package stopwords to\n",
      "[nltk_data]     C:\\Users\\apuza\\AppData\\Roaming\\nltk_data...\n",
      "[nltk_data]   Package stopwords is already up-to-date!\n",
      "[nltk_data] Downloading package state_union to\n",
      "[nltk_data]     C:\\Users\\apuza\\AppData\\Roaming\\nltk_data...\n",
      "[nltk_data]   Package state_union is already up-to-date!\n",
      "[nltk_data] Downloading package twitter_samples to\n",
      "[nltk_data]     C:\\Users\\apuza\\AppData\\Roaming\\nltk_data...\n",
      "[nltk_data]   Package twitter_samples is already up-to-date!\n",
      "[nltk_data] Downloading package movie_reviews to\n",
      "[nltk_data]     C:\\Users\\apuza\\AppData\\Roaming\\nltk_data...\n",
      "[nltk_data]   Package movie_reviews is already up-to-date!\n",
      "[nltk_data] Downloading package averaged_perceptron_tagger to\n",
      "[nltk_data]     C:\\Users\\apuza\\AppData\\Roaming\\nltk_data...\n",
      "[nltk_data]   Package averaged_perceptron_tagger is already up-to-\n",
      "[nltk_data]       date!\n",
      "[nltk_data] Downloading package vader_lexicon to\n",
      "[nltk_data]     C:\\Users\\apuza\\AppData\\Roaming\\nltk_data...\n",
      "[nltk_data]   Package vader_lexicon is already up-to-date!\n",
      "[nltk_data] Downloading package punkt to\n",
      "[nltk_data]     C:\\Users\\apuza\\AppData\\Roaming\\nltk_data...\n",
      "[nltk_data]   Package punkt is already up-to-date!\n"
     ]
    }
   ],
   "source": [
    "import FinNews as fn\n",
    "import trafilatura\n",
    "import feedparser\n",
    "from waybackpy import WaybackMachineAvailabilityAPI\n",
    "from waybackpy import WaybackMachineCDXServerAPI\n",
    "import pandas as pd\n",
    "from tqdm.notebook import tqdm\n",
    "import pickle\n",
    "from slugify import slugify\n",
    "import warnings\n",
    "import os\n",
    "import nltk\n",
    "from nltk.tokenize import word_tokenize\n",
    "nltk.download([\n",
    "     \"names\",\n",
    "     \"stopwords\",\n",
    "     \"state_union\",\n",
    "     \"twitter_samples\",\n",
    "     \"movie_reviews\",\n",
    "     \"averaged_perceptron_tagger\",\n",
    "     \"vader_lexicon\",\n",
    "     \"punkt\",\n",
    "])\n",
    "warnings.simplefilter(action='ignore', category=FutureWarning)\n"
   ]
  },
  {
   "cell_type": "markdown",
   "metadata": {},
   "source": [
    "set the default settings for this operation:"
   ]
  },
  {
   "cell_type": "code",
   "execution_count": 6,
   "metadata": {},
   "outputs": [],
   "source": [
    "# importare lista di feed RSS\n",
    "input_df = pd.read_csv('C://Users//apuza//iCloudDrive//ProjJoul//finance_input.csv')\n",
    "#set the user agent for the waybackpy lib\n",
    "user_agent = \"Mozilla/5.0 (Windows NT 5.1; rv:40.0) Gecko/20100101 Firefox/40.0\""
   ]
  },
  {
   "cell_type": "markdown",
   "metadata": {},
   "source": [
    "The below code scrapes from the waybackmachine and snaps according to the urls input in the input_df:"
   ]
  },
  {
   "cell_type": "code",
   "execution_count": 8,
   "metadata": {},
   "outputs": [],
   "source": [
    "sources = [] # lista delle fonti\n",
    "\n",
    "# ciclo su i feed\n",
    "for url in tqdm(input_df['url']):\n",
    "    availability_api = WaybackMachineAvailabilityAPI(url, user_agent)\n",
    "\n",
    "    # aggiungere lista di snapshot\n",
    "    sources.append(WaybackMachineCDXServerAPI(url, user_agent, start_timestamp=2020, end_timestamp=2022))"
   ]
  },
  {
   "cell_type": "code",
   "execution_count": 9,
   "metadata": {},
   "outputs": [
    {
     "data": {
      "application/vnd.jupyter.widget-view+json": {
       "model_id": "da8bdc8ac66a469f85433845febedaf0",
       "version_major": 2,
       "version_minor": 0
      },
      "text/plain": [
       "  0%|          | 0/209 [00:00<?, ?it/s]"
      ]
     },
     "metadata": {},
     "output_type": "display_data"
    }
   ],
   "source": [
    "# dizionario url -> lista di snapshot\n",
    "snapshots_dict = {}\n",
    "\n",
    "# ciclo su i feed\n",
    "for url in tqdm(input_df['url']):\n",
    "    snapshots_dict[url] = [] # inizalizza lista vuota di snapshot\n",
    "    source = WaybackMachineCDXServerAPI(url, user_agent, start_timestamp=2007, end_timestamp=2008)\n",
    "    # ciclo su snapshot della fonte\n",
    "    for snapshot in source.snapshots():\n",
    "        # aggiunge snapshot a lista\n",
    "        snapshots_dict[url].append(snapshot.archive_url)"
   ]
  },
  {
   "cell_type": "code",
   "execution_count": 10,
   "metadata": {},
   "outputs": [
    {
     "name": "stdout",
     "output_type": "stream",
     "text": [
      "https://www.cnbc.com/id/100003114/device/rss/rss.html 0\n",
      "https://www.cnbc.com/id/100727362/device/rss/rss.html 0\n",
      "https://www.cnbc.com/id/15837362/device/rss/rss.html 0\n",
      "https://www.cnbc.com/id/19832390/device/rss/rss.html 0\n",
      "https://www.cnbc.com/id/19794221/device/rss/rss.html 0\n",
      "https://www.cnbc.com/id/10001147/device/rss/rss.html 0\n",
      "https://www.cnbc.com/id/15839135/device/rss/rss.html 0\n",
      "https://www.cnbc.com/id/100370673/device/rss/rss.html 0\n",
      "https://www.cnbc.com/id/20910258/device/rss/rss.html 0\n",
      "https://www.cnbc.com/id/10000664/device/rss/rss.html 0\n",
      "https://www.cnbc.com/id/10000113/device/rss/rss.html 0\n",
      "https://www.cnbc.com/id/10000115/device/rss/rss.html 0\n",
      "https://www.cnbc.com/id/10001054/device/rss/rss.html 0\n",
      "https://www.cnbc.com/id/10000116/device/rss/rss.html 0\n",
      "https://www.cnbc.com/id/44877279/device/rss/rss.html 0\n",
      "https://www.cnbc.com/id/15839069/device/rss/rss.html 0\n",
      "https://www.cnbc.com/id/100646281/device/rss/rss.html 0\n",
      "https://www.cnbc.com/id/21324812/device/rss/rss.html 0\n",
      "https://www.cnbc.com/id/23103686/device/rss/rss.html 0\n",
      "https://www.cnbc.com/id/20409666/device/rss/rss.html 0\n",
      "https://www.cnbc.com/id/38818154/device/rss/rss.html 0\n",
      "https://www.cnbc.com/id/20398120/device/rss/rss.html 0\n",
      "https://www.cnbc.com/id/19206666/device/rss/rss.html 0\n",
      "https://www.cnbc.com/id/17501773/device/rss/rss.html 0\n",
      "https://www.cnbc.com/id/15838652/device/rss/rss.html 0\n",
      "https://www.cnbc.com/id/15838355/device/rss/rss.html 0\n",
      "https://www.cnbc.com/id/15838831/device/rss/rss.html 0\n",
      "https://www.cnbc.com/id/37447855/device/rss/rss.html 0\n",
      "https://search.cnbc.com/rs/search/combinedcms/view.xml?partnerId=wrss01&id=100003114 0\n",
      "https://search.cnbc.com/rs/search/combinedcms/view.xml?partnerId=wrss01&id=100727362 0\n",
      "https://search.cnbc.com/rs/search/combinedcms/view.xml?partnerId=wrss01&id=15837362 0\n",
      "https://search.cnbc.com/rs/search/combinedcms/view.xml?partnerId=wrss01&id=19832390 0\n",
      "https://search.cnbc.com/rs/search/combinedcms/view.xml?partnerId=wrss01&id=19794221 0\n",
      "https://search.cnbc.com/rs/search/combinedcms/view.xml?partnerId=wrss01&id=10001147 0\n",
      "https://search.cnbc.com/rs/search/combinedcms/view.xml?partnerId=wrss01&id=15839135 0\n",
      "https://search.cnbc.com/rs/search/combinedcms/view.xml?partnerId=wrss01&id=100370673 0\n",
      "https://search.cnbc.com/rs/search/combinedcms/view.xml?partnerId=wrss01&id=20910258 0\n",
      "https://search.cnbc.com/rs/search/combinedcms/view.xml?partnerId=wrss01&id=10000664 0\n",
      "https://search.cnbc.com/rs/search/combinedcms/view.xml?partnerId=wrss01&id=10000113 0\n",
      "https://search.cnbc.com/rs/search/combinedcms/view.xml?partnerId=wrss01&id=10000115 0\n",
      "https://search.cnbc.com/rs/search/combinedcms/view.xml?partnerId=wrss01&id=10001054 0\n",
      "https://search.cnbc.com/rs/search/combinedcms/view.xml?partnerId=wrss01&id=19836768 0\n",
      "https://search.cnbc.com/rs/search/combinedcms/view.xml?partnerId=wrss01&id=10000116 0\n",
      "https://search.cnbc.com/rs/search/combinedcms/view.xml?partnerId=wrss01&id=44877279 0\n",
      "https://search.cnbc.com/rs/search/combinedcms/view.xml?partnerId=wrss01&id=15839069 0\n",
      "https://search.cnbc.com/rs/search/combinedcms/view.xml?partnerId=wrss01&id=100646281 0\n",
      "https://search.cnbc.com/rs/search/combinedcms/view.xml?partnerId=wrss01&id=21324812 0\n",
      "https://search.cnbc.com/rs/search/combinedcms/view.xml?partnerId=wrss01&id=23103686 0\n",
      "https://search.cnbc.com/rs/search/combinedcms/view.xml?partnerId=wrss01&id=20409666 0\n",
      "https://search.cnbc.com/rs/search/combinedcms/view.xml?partnerId=wrss01&id=38818154 0\n",
      "https://search.cnbc.com/rs/search/combinedcms/view.xml?partnerId=wrss01&id=20398120 0\n",
      "https://search.cnbc.com/rs/search/combinedcms/view.xml?partnerId=wrss01&id=19206666 0\n",
      "https://seekingalpha.com/feed.xml 29\n",
      "https://seekingalpha.com/tag/ipo-analysis.xml 23\n",
      "https://seekingalpha.com/tag/long-ideas.xml 16\n",
      "https://seekingalpha.com/sector/transcripts.xml 9\n",
      "https://seekingalpha.com/market_currents.xml 19\n",
      "https://seekingalpha.com/tag/wall-st-breakfast.xml 0\n",
      "https://seekingalpha.com/listing/most-popular-articles.xml 0\n",
      "https://seekingalpha.com/tag/forex.xml 0\n",
      "https://seekingalpha.com/tag/editors-picks.xml 25\n",
      "https://seekingalpha.com/tag/etf-portfolio-strategy.xml 0\n",
      "https://seekingalpha.com/tag/india.xml 0\n",
      "https://seekingalpha.com/tag/israel.xml 23\n",
      "https://seekingalpha.com/tag/japan.xml 0\n",
      "https://seekingalpha.com/tag/us.xml 1\n",
      "https://seekingalpha.com/tag/china.xml 0\n",
      "https://seekingalpha.com/sector/financial.xml 20\n",
      "https://seekingalpha.com/sector/healthcare.xml 24\n",
      "https://seekingalpha.com/sector/utilities.xml 0\n",
      "https://seekingalpha.com/sector/technology.xml 0\n",
      "https://seekingalpha.com/sector/real-estate.xml 0\n",
      "https://seekingalpha.com/sector/basic-materials.xml 0\n",
      "https://seekingalpha.com/sector/consumer-goods.xml 0\n",
      "https://seekingalpha.com/sector/services.xml 0\n",
      "https://seekingalpha.com/sector/industrial-goods.xml 0\n",
      "https://seekingalpha.com/sector/conglomerates.xml 0\n",
      "https://seekingalpha.com/feed/stock-ideas/quick-picks 0\n",
      "https://seekingalpha.com/feed/stock-ideas 0\n",
      "https://seekingalpha.com/feed/dividends/reits 0\n",
      "https://seekingalpha.com/feed/dividends 0\n",
      "https://seekingalpha.com/feed/dividends/dividend-ideas 0\n",
      "https://seekingalpha.com/feed/dividends/dividend-strategy 0\n",
      "https://seekingalpha.com/feed/dividends/dividend-quick-picks 0\n",
      "https://seekingalpha.com/feed/dividends/editors-picks 0\n",
      "https://seekingalpha.com/feed/market-outlook/todays-market 0\n",
      "https://seekingalpha.com/feed/market-outlook/economy 0\n",
      "https://seekingalpha.com/feed/market-outlook/gold-and-precious-metals 0\n",
      "https://seekingalpha.com/feed/market-outlook/commodities 0\n",
      "https://seekingalpha.com/feed/market-outlook/forex 0\n",
      "https://seekingalpha.com/feed/market-outlook/editors-picks 0\n",
      "https://seekingalpha.com/feed/market-outlook/cryptocurrency 0\n",
      "https://seekingalpha.com/feed/investing-strategy/portfolio-strategy 0\n",
      "https://seekingalpha.com/feed/investing-strategy/fixed-income 0\n",
      "https://seekingalpha.com/feed/investing-strategy/retirement 0\n",
      "https://seekingalpha.com/feed/investing-strategy/editors-picks 0\n",
      "https://seekingalpha.com/feed/podcast 0\n",
      "https://seekingalpha.com/news/m-a/feed 0\n",
      "https://seekingalpha.com/feed/investing-strategy 0\n",
      "https://seekingalpha.com/feed/etfs-and-funds 0\n",
      "https://seekingalpha.com/feed/etfs-and-funds/etf-analysis 0\n",
      "https://seekingalpha.com/feed/etfs-and-funds/mutual-funds 0\n",
      "https://seekingalpha.com/feed/etfs-and-funds/closed-end-funds 0\n",
      "https://seekingalpha.com/feed/etfs-and-funds/editors-picks 0\n",
      "https://seekingalpha.com/feed/stock-ideas/technology 0\n",
      "https://seekingalpha.com/feed/stock-ideas/basic-materials 0\n",
      "https://seekingalpha.com/feed/stock-ideas/healthcare 0\n",
      "https://seekingalpha.com/feed/stock-ideas/consumer-goods 0\n",
      "https://seekingalpha.com/feed/stock-ideas/services 0\n",
      "https://seekingalpha.com/feed/stock-ideas/utilities 0\n",
      "https://seekingalpha.com/feed/stock-ideas/financial 0\n",
      "https://seekingalpha.com/feed/stock-ideas/industrial-goods 0\n",
      "https://seekingalpha.com/feed/stock-ideas/conglomerates 0\n",
      "https://seekingalpha.com/news/tech/feed 0\n",
      "https://seekingalpha.com/news/healthcare/feed 0\n",
      "https://seekingalpha.com/news/financials/feed 0\n",
      "https://seekingalpha.com/news/energy/feed 0\n",
      "https://seekingalpha.com/news/consumer/feed 0\n",
      "https://seekingalpha.com/news/commodities/feed 0\n",
      "https://seekingalpha.com/news/earnings/feed 0\n",
      "https://www.investing.com/rss/market_overview.rss 0\n",
      "https://www.investing.com/rss/market_overview_Technical.rss 0\n",
      "https://www.investing.com/rss/market_overview_Fundamental.rss 0\n",
      "https://www.investing.com/rss/market_overview_Opinion.rss 0\n",
      "https://www.investing.com/rss/market_overview_investing_ideas.rss 0\n",
      "https://www.investing.com/rss/302.rss 0\n",
      "https://www.investing.com/rss/forex.rss 0\n",
      "https://www.investing.com/rss/forex_Technical.rss 0\n",
      "https://www.investing.com/rss/forex_Fundamental.rss 0\n",
      "https://www.investing.com/rss/forex_Opinion.rss 0\n",
      "https://www.investing.com/rss/forex_Signals.rss 0\n",
      "https://www.investing.com/rss/286.rss 0\n",
      "https://www.investing.com/rss/290.rss 0\n",
      "https://www.investing.com/rss/stock.rss 0\n",
      "https://www.investing.com/rss/stock_Technical.rss 0\n",
      "https://www.investing.com/rss/stock_Fundamental.rss 0\n",
      "https://www.investing.com/rss/stock_Opinion.rss 0\n",
      "https://www.investing.com/rss/stock_stock_picks.rss 0\n",
      "https://www.investing.com/rss/stock_Stocks.rss 0\n",
      "https://www.investing.com/rss/stock_Indices.rss 0\n",
      "https://www.investing.com/rss/stock_Futures.rss 0\n",
      "https://www.investing.com/rss/stock_ETFs.rss 0\n",
      "https://www.investing.com/rss/stock_Options.rss 0\n",
      "https://www.investing.com/rss/commodities.rss 0\n",
      "https://www.investing.com/rss/commodities_Technical.rss 0\n",
      "https://www.investing.com/rss/commodities_Fundamental.rss 0\n",
      "https://www.investing.com/rss/commodities_Opinion.rss 0\n",
      "https://www.investing.com/rss/commodities_Strategy.rss 0\n",
      "https://www.investing.com/rss/commodities_Metals.rss 0\n",
      "https://www.investing.com/rss/commodities_Energy.rss 0\n",
      "https://www.investing.com/rss/commodities_Agriculture.rss 0\n",
      "https://www.investing.com/rss/bonds.rss 0\n",
      "https://www.investing.com/rss/bonds_Technical.rss 0\n",
      "https://www.investing.com/rss/bonds_Fundamental.rss 0\n",
      "https://www.investing.com/rss/bonds_Opinion.rss 0\n",
      "https://www.investing.com/rss/bonds_Government.rss 0\n",
      "https://www.investing.com/rss/bonds_Corporate.rss 0\n",
      "https://www.investing.com/rss/news.rss 0\n",
      "https://www.investing.com/rss/news_301.rss 0\n",
      "https://www.investing.com/rss/news_1.rss 0\n",
      "https://www.investing.com/rss/news_285.rss 0\n",
      "https://www.investing.com/rss/news_477.rss 0\n",
      "https://www.investing.com/rss/news_11.rss 0\n",
      "https://www.investing.com/rss/news_25.rss 0\n",
      "https://www.investing.com/rss/news_95.rss 0\n",
      "https://www.investing.com/rss/news_14.rss 0\n",
      "https://www.investing.com/rss/news_287.rss 0\n",
      "https://www.investing.com/rss/news_289.rss 0\n",
      "https://www.investing.com/rss/investing_news.rss 0\n",
      "https://www.investing.com/rss/brokers.rss 0\n",
      "https://www.investing.com/rss/brokers_promotions.rss 0\n",
      "https://www.investing.com/rss/brokers_press.rss 0\n",
      "https://www.investing.com/rss/brokers_interviews.rss 0\n",
      "https://www.investing.com/rss/central_banks.rss 0\n",
      "https://feeds.a.dj.com/rss/RSSOpinion.xml 0\n",
      "https://feeds.a.dj.com/rss/RSSWorldNews.xml 0\n",
      "https://feeds.a.dj.com/rss/WSJcomUSBusiness.xml 0\n",
      "https://feeds.a.dj.com/rss/RSSMarketsMain.xml 0\n",
      "https://feeds.a.dj.com/rss/RSSWSJD.xml 0\n",
      "https://feeds.a.dj.com/rss/RSSLifestyle.xml 0\n",
      "https://finance.yahoo.com/rss/topstories 18\n",
      "http://finance.yahoo.com/rss/popularstories 1\n",
      "https://feeds.finance.yahoo.com/rss/2.0/headline?s={}&region=US&lang=en-US 0\n",
      "https://www.ft.com/?format=rss 0\n",
      "https://fortune.com/feed 0\n",
      "http://www.marketwatch.com/rss/topstories 31\n",
      "http://www.marketwatch.com/rss/realtimeheadlines 27\n",
      "http://www.marketwatch.com/rss/marketpulse 27\n",
      "http://feeds.marketwatch.com/marketwatch/bulletins 6\n",
      "http://www.marketwatch.com/rss/pf 28\n",
      "http://www.marketwatch.com/rss/StockstoWatch 28\n",
      "http://www.marketwatch.com/rss/internet 29\n",
      "http://www.marketwatch.com/rss/mutualfunds 28\n",
      "http://www.marketwatch.com/rss/software 24\n",
      "http://www.marketwatch.com/rss/financial 22\n",
      "http://www.marketwatch.com/rss/commentary 32\n",
      "http://www.marketwatch.com/rss/newslettersandresearch 27\n",
      "http://www.marketwatch.com/rss/Autoreviews 29\n",
      "https://scr.zacks.com/rss/pressrelease.aspx 0\n",
      "http://feed.zacks.com/commentary/AllStories/rss 0\n",
      "https://seekingalpha.com/tag/united-kingdom.xml 0\n",
      "https://seekingalpha.com/tag/ireland.xml 0\n",
      "https://seekingalpha.com/tag/germany.xml 0\n",
      "https://seekingalpha.com/tag/brazil.xml 0\n",
      "https://seekingalpha.com/tag/spain.xml 0\n",
      "https://seekingalpha.com/tag/australia.xml 0\n",
      "https://seekingalpha.com/tag/canada.xml 0\n"
     ]
    }
   ],
   "source": [
    "for k,v in snapshots_dict.items():\n",
    "    print(k, len(v))"
   ]
  },
  {
   "cell_type": "code",
   "execution_count": null,
   "metadata": {},
   "outputs": [],
   "source": []
  },
  {
   "cell_type": "code",
   "execution_count": 5,
   "metadata": {},
   "outputs": [],
   "source": [
    "df = pd.DataFrame(columns=['title', 'link', 'published_parsed', 'body'])"
   ]
  },
  {
   "cell_type": "code",
   "execution_count": 12,
   "metadata": {},
   "outputs": [],
   "source": [
    "# salva dizionario su file\n",
    "with open('snapshots_dict.pkl', 'wb') as f:\n",
    "    pickle.dump(snapshots_dict, f)"
   ]
  },
  {
   "cell_type": "markdown",
   "metadata": {},
   "source": [
    "Here we save all the excel files of the snaps of each link in the output folder:"
   ]
  },
  {
   "cell_type": "code",
   "execution_count": 14,
   "metadata": {},
   "outputs": [
    {
     "data": {
      "application/vnd.jupyter.widget-view+json": {
       "model_id": "06508103e1614fd5b2d246b920e92c19",
       "version_major": 2,
       "version_minor": 0
      },
      "text/plain": [
       "  0%|          | 0/209 [00:00<?, ?it/s]"
      ]
     },
     "metadata": {},
     "output_type": "display_data"
    },
    {
     "data": {
      "application/vnd.jupyter.widget-view+json": {
       "model_id": "9dade7017fef497ba347c03f84fc235d",
       "version_major": 2,
       "version_minor": 0
      },
      "text/plain": [
       "0it [00:00, ?it/s]"
      ]
     },
     "metadata": {},
     "output_type": "display_data"
    },
    {
     "data": {
      "application/vnd.jupyter.widget-view+json": {
       "model_id": "67bd4e218cb34c6497456d354ec98db5",
       "version_major": 2,
       "version_minor": 0
      },
      "text/plain": [
       "0it [00:00, ?it/s]"
      ]
     },
     "metadata": {},
     "output_type": "display_data"
    },
    {
     "data": {
      "application/vnd.jupyter.widget-view+json": {
       "model_id": "2350eb553919441793df9787f6b1d2b3",
       "version_major": 2,
       "version_minor": 0
      },
      "text/plain": [
       "0it [00:00, ?it/s]"
      ]
     },
     "metadata": {},
     "output_type": "display_data"
    },
    {
     "data": {
      "application/vnd.jupyter.widget-view+json": {
       "model_id": "3692077afe5543fbbda370bd26f7a1da",
       "version_major": 2,
       "version_minor": 0
      },
      "text/plain": [
       "0it [00:00, ?it/s]"
      ]
     },
     "metadata": {},
     "output_type": "display_data"
    },
    {
     "data": {
      "application/vnd.jupyter.widget-view+json": {
       "model_id": "67e897646f8346bbbb93d585a7eece12",
       "version_major": 2,
       "version_minor": 0
      },
      "text/plain": [
       "0it [00:00, ?it/s]"
      ]
     },
     "metadata": {},
     "output_type": "display_data"
    },
    {
     "data": {
      "application/vnd.jupyter.widget-view+json": {
       "model_id": "b8038590503f4a52a4594326cdbaeef3",
       "version_major": 2,
       "version_minor": 0
      },
      "text/plain": [
       "0it [00:00, ?it/s]"
      ]
     },
     "metadata": {},
     "output_type": "display_data"
    },
    {
     "data": {
      "application/vnd.jupyter.widget-view+json": {
       "model_id": "adb879fb222a4e278e2c0c5df4305df5",
       "version_major": 2,
       "version_minor": 0
      },
      "text/plain": [
       "0it [00:00, ?it/s]"
      ]
     },
     "metadata": {},
     "output_type": "display_data"
    },
    {
     "data": {
      "application/vnd.jupyter.widget-view+json": {
       "model_id": "de1b5e152c954b5b9f89a388cfc38158",
       "version_major": 2,
       "version_minor": 0
      },
      "text/plain": [
       "0it [00:00, ?it/s]"
      ]
     },
     "metadata": {},
     "output_type": "display_data"
    },
    {
     "data": {
      "application/vnd.jupyter.widget-view+json": {
       "model_id": "40bdcc0eeb21408194a405f9d91675b1",
       "version_major": 2,
       "version_minor": 0
      },
      "text/plain": [
       "0it [00:00, ?it/s]"
      ]
     },
     "metadata": {},
     "output_type": "display_data"
    },
    {
     "data": {
      "application/vnd.jupyter.widget-view+json": {
       "model_id": "257603a74ba8416e94702a27ded3be73",
       "version_major": 2,
       "version_minor": 0
      },
      "text/plain": [
       "0it [00:00, ?it/s]"
      ]
     },
     "metadata": {},
     "output_type": "display_data"
    },
    {
     "data": {
      "application/vnd.jupyter.widget-view+json": {
       "model_id": "c7544f829097487380ba8b4bc2d5a52f",
       "version_major": 2,
       "version_minor": 0
      },
      "text/plain": [
       "0it [00:00, ?it/s]"
      ]
     },
     "metadata": {},
     "output_type": "display_data"
    },
    {
     "data": {
      "application/vnd.jupyter.widget-view+json": {
       "model_id": "ce729f4865d946b5b401985a8cd94813",
       "version_major": 2,
       "version_minor": 0
      },
      "text/plain": [
       "0it [00:00, ?it/s]"
      ]
     },
     "metadata": {},
     "output_type": "display_data"
    },
    {
     "data": {
      "application/vnd.jupyter.widget-view+json": {
       "model_id": "d8d650eadab14d8c84979bfc680e48fa",
       "version_major": 2,
       "version_minor": 0
      },
      "text/plain": [
       "0it [00:00, ?it/s]"
      ]
     },
     "metadata": {},
     "output_type": "display_data"
    },
    {
     "data": {
      "application/vnd.jupyter.widget-view+json": {
       "model_id": "7504f3d7a4fa4189bbc7faecd6d997a9",
       "version_major": 2,
       "version_minor": 0
      },
      "text/plain": [
       "0it [00:00, ?it/s]"
      ]
     },
     "metadata": {},
     "output_type": "display_data"
    },
    {
     "data": {
      "application/vnd.jupyter.widget-view+json": {
       "model_id": "09dffd3dcc08448e878ca19f8b607d14",
       "version_major": 2,
       "version_minor": 0
      },
      "text/plain": [
       "0it [00:00, ?it/s]"
      ]
     },
     "metadata": {},
     "output_type": "display_data"
    },
    {
     "data": {
      "application/vnd.jupyter.widget-view+json": {
       "model_id": "72b77a63053747f6a007285da09d1bf3",
       "version_major": 2,
       "version_minor": 0
      },
      "text/plain": [
       "0it [00:00, ?it/s]"
      ]
     },
     "metadata": {},
     "output_type": "display_data"
    },
    {
     "data": {
      "application/vnd.jupyter.widget-view+json": {
       "model_id": "53b9146dcaf74864a5a09af904063855",
       "version_major": 2,
       "version_minor": 0
      },
      "text/plain": [
       "0it [00:00, ?it/s]"
      ]
     },
     "metadata": {},
     "output_type": "display_data"
    },
    {
     "data": {
      "application/vnd.jupyter.widget-view+json": {
       "model_id": "46a629fa8e984626a88b3a3d914bc584",
       "version_major": 2,
       "version_minor": 0
      },
      "text/plain": [
       "0it [00:00, ?it/s]"
      ]
     },
     "metadata": {},
     "output_type": "display_data"
    },
    {
     "data": {
      "application/vnd.jupyter.widget-view+json": {
       "model_id": "4bb93ab725d843d8b0164aea96f2a5cf",
       "version_major": 2,
       "version_minor": 0
      },
      "text/plain": [
       "0it [00:00, ?it/s]"
      ]
     },
     "metadata": {},
     "output_type": "display_data"
    },
    {
     "data": {
      "application/vnd.jupyter.widget-view+json": {
       "model_id": "dc5c927545994b4d809498b20830ad29",
       "version_major": 2,
       "version_minor": 0
      },
      "text/plain": [
       "0it [00:00, ?it/s]"
      ]
     },
     "metadata": {},
     "output_type": "display_data"
    },
    {
     "data": {
      "application/vnd.jupyter.widget-view+json": {
       "model_id": "f1cbcc6d05e74160893469c128693305",
       "version_major": 2,
       "version_minor": 0
      },
      "text/plain": [
       "0it [00:00, ?it/s]"
      ]
     },
     "metadata": {},
     "output_type": "display_data"
    },
    {
     "data": {
      "application/vnd.jupyter.widget-view+json": {
       "model_id": "a4fca3a947af4f82bf765275186e2ddc",
       "version_major": 2,
       "version_minor": 0
      },
      "text/plain": [
       "0it [00:00, ?it/s]"
      ]
     },
     "metadata": {},
     "output_type": "display_data"
    },
    {
     "data": {
      "application/vnd.jupyter.widget-view+json": {
       "model_id": "c71f0db2451e4675a6a81e6cfeef2314",
       "version_major": 2,
       "version_minor": 0
      },
      "text/plain": [
       "0it [00:00, ?it/s]"
      ]
     },
     "metadata": {},
     "output_type": "display_data"
    },
    {
     "data": {
      "application/vnd.jupyter.widget-view+json": {
       "model_id": "6b5f38f152cc40c8802ab6f9e1631130",
       "version_major": 2,
       "version_minor": 0
      },
      "text/plain": [
       "0it [00:00, ?it/s]"
      ]
     },
     "metadata": {},
     "output_type": "display_data"
    },
    {
     "data": {
      "application/vnd.jupyter.widget-view+json": {
       "model_id": "3c5355b88e724b66b343841637948ff6",
       "version_major": 2,
       "version_minor": 0
      },
      "text/plain": [
       "0it [00:00, ?it/s]"
      ]
     },
     "metadata": {},
     "output_type": "display_data"
    },
    {
     "data": {
      "application/vnd.jupyter.widget-view+json": {
       "model_id": "fb62a1d9a2c640efa69982b41a2085ba",
       "version_major": 2,
       "version_minor": 0
      },
      "text/plain": [
       "0it [00:00, ?it/s]"
      ]
     },
     "metadata": {},
     "output_type": "display_data"
    },
    {
     "data": {
      "application/vnd.jupyter.widget-view+json": {
       "model_id": "aaa993230cdf4e7ba39a1f30a44a8087",
       "version_major": 2,
       "version_minor": 0
      },
      "text/plain": [
       "0it [00:00, ?it/s]"
      ]
     },
     "metadata": {},
     "output_type": "display_data"
    },
    {
     "data": {
      "application/vnd.jupyter.widget-view+json": {
       "model_id": "098a628d49d14b5e87c502d4316fbdae",
       "version_major": 2,
       "version_minor": 0
      },
      "text/plain": [
       "0it [00:00, ?it/s]"
      ]
     },
     "metadata": {},
     "output_type": "display_data"
    },
    {
     "data": {
      "application/vnd.jupyter.widget-view+json": {
       "model_id": "827be48b6a3a4c28ae418daae214a789",
       "version_major": 2,
       "version_minor": 0
      },
      "text/plain": [
       "0it [00:00, ?it/s]"
      ]
     },
     "metadata": {},
     "output_type": "display_data"
    },
    {
     "data": {
      "application/vnd.jupyter.widget-view+json": {
       "model_id": "1ce248724bd34136828f2f8b60f40359",
       "version_major": 2,
       "version_minor": 0
      },
      "text/plain": [
       "0it [00:00, ?it/s]"
      ]
     },
     "metadata": {},
     "output_type": "display_data"
    },
    {
     "data": {
      "application/vnd.jupyter.widget-view+json": {
       "model_id": "cf64ff95d4a0403b8f9d17ba3df617fe",
       "version_major": 2,
       "version_minor": 0
      },
      "text/plain": [
       "0it [00:00, ?it/s]"
      ]
     },
     "metadata": {},
     "output_type": "display_data"
    },
    {
     "data": {
      "application/vnd.jupyter.widget-view+json": {
       "model_id": "3b14ea30769f405c87a623391a136634",
       "version_major": 2,
       "version_minor": 0
      },
      "text/plain": [
       "0it [00:00, ?it/s]"
      ]
     },
     "metadata": {},
     "output_type": "display_data"
    },
    {
     "data": {
      "application/vnd.jupyter.widget-view+json": {
       "model_id": "2c12ec06fa6a42f2ab511716b9a2abd7",
       "version_major": 2,
       "version_minor": 0
      },
      "text/plain": [
       "0it [00:00, ?it/s]"
      ]
     },
     "metadata": {},
     "output_type": "display_data"
    },
    {
     "data": {
      "application/vnd.jupyter.widget-view+json": {
       "model_id": "7645019cfe8a48cf904a8975e9dc6285",
       "version_major": 2,
       "version_minor": 0
      },
      "text/plain": [
       "0it [00:00, ?it/s]"
      ]
     },
     "metadata": {},
     "output_type": "display_data"
    },
    {
     "data": {
      "application/vnd.jupyter.widget-view+json": {
       "model_id": "84ad049c00e3437fa1605fa081cc6d06",
       "version_major": 2,
       "version_minor": 0
      },
      "text/plain": [
       "0it [00:00, ?it/s]"
      ]
     },
     "metadata": {},
     "output_type": "display_data"
    },
    {
     "data": {
      "application/vnd.jupyter.widget-view+json": {
       "model_id": "081e02e99008402e8982be769333c55f",
       "version_major": 2,
       "version_minor": 0
      },
      "text/plain": [
       "0it [00:00, ?it/s]"
      ]
     },
     "metadata": {},
     "output_type": "display_data"
    },
    {
     "data": {
      "application/vnd.jupyter.widget-view+json": {
       "model_id": "6a48ba6de88648bfaf540fd12a67bbe5",
       "version_major": 2,
       "version_minor": 0
      },
      "text/plain": [
       "0it [00:00, ?it/s]"
      ]
     },
     "metadata": {},
     "output_type": "display_data"
    },
    {
     "data": {
      "application/vnd.jupyter.widget-view+json": {
       "model_id": "3bec1a04f2cc472181cea32d65e84d6b",
       "version_major": 2,
       "version_minor": 0
      },
      "text/plain": [
       "0it [00:00, ?it/s]"
      ]
     },
     "metadata": {},
     "output_type": "display_data"
    },
    {
     "data": {
      "application/vnd.jupyter.widget-view+json": {
       "model_id": "bf8b403917dd43b495eb6d32444b9b5b",
       "version_major": 2,
       "version_minor": 0
      },
      "text/plain": [
       "0it [00:00, ?it/s]"
      ]
     },
     "metadata": {},
     "output_type": "display_data"
    },
    {
     "data": {
      "application/vnd.jupyter.widget-view+json": {
       "model_id": "90ab5985fea24ff0ab22d3b000e0ccf6",
       "version_major": 2,
       "version_minor": 0
      },
      "text/plain": [
       "0it [00:00, ?it/s]"
      ]
     },
     "metadata": {},
     "output_type": "display_data"
    },
    {
     "data": {
      "application/vnd.jupyter.widget-view+json": {
       "model_id": "21624460439942ceac5a9df000707503",
       "version_major": 2,
       "version_minor": 0
      },
      "text/plain": [
       "0it [00:00, ?it/s]"
      ]
     },
     "metadata": {},
     "output_type": "display_data"
    },
    {
     "data": {
      "application/vnd.jupyter.widget-view+json": {
       "model_id": "a63343cd546948a294574ba2b0a2d9e7",
       "version_major": 2,
       "version_minor": 0
      },
      "text/plain": [
       "0it [00:00, ?it/s]"
      ]
     },
     "metadata": {},
     "output_type": "display_data"
    },
    {
     "data": {
      "application/vnd.jupyter.widget-view+json": {
       "model_id": "c4eefa3a91634b8c943554c585cca44c",
       "version_major": 2,
       "version_minor": 0
      },
      "text/plain": [
       "0it [00:00, ?it/s]"
      ]
     },
     "metadata": {},
     "output_type": "display_data"
    },
    {
     "data": {
      "application/vnd.jupyter.widget-view+json": {
       "model_id": "fbbb8cc85cf8466794d690464e948412",
       "version_major": 2,
       "version_minor": 0
      },
      "text/plain": [
       "0it [00:00, ?it/s]"
      ]
     },
     "metadata": {},
     "output_type": "display_data"
    },
    {
     "data": {
      "application/vnd.jupyter.widget-view+json": {
       "model_id": "1a0f842a02cb4685be9bafb0874cba32",
       "version_major": 2,
       "version_minor": 0
      },
      "text/plain": [
       "0it [00:00, ?it/s]"
      ]
     },
     "metadata": {},
     "output_type": "display_data"
    },
    {
     "data": {
      "application/vnd.jupyter.widget-view+json": {
       "model_id": "d7765d6c76f94e75a06015308037344d",
       "version_major": 2,
       "version_minor": 0
      },
      "text/plain": [
       "0it [00:00, ?it/s]"
      ]
     },
     "metadata": {},
     "output_type": "display_data"
    },
    {
     "data": {
      "application/vnd.jupyter.widget-view+json": {
       "model_id": "4c9e3863cba7462aaef1dd6d5dbf1517",
       "version_major": 2,
       "version_minor": 0
      },
      "text/plain": [
       "0it [00:00, ?it/s]"
      ]
     },
     "metadata": {},
     "output_type": "display_data"
    },
    {
     "data": {
      "application/vnd.jupyter.widget-view+json": {
       "model_id": "e8e04534d18b4811a6d991b3567aea43",
       "version_major": 2,
       "version_minor": 0
      },
      "text/plain": [
       "0it [00:00, ?it/s]"
      ]
     },
     "metadata": {},
     "output_type": "display_data"
    },
    {
     "data": {
      "application/vnd.jupyter.widget-view+json": {
       "model_id": "2a1055cc670147cc95983da7943abc2b",
       "version_major": 2,
       "version_minor": 0
      },
      "text/plain": [
       "0it [00:00, ?it/s]"
      ]
     },
     "metadata": {},
     "output_type": "display_data"
    },
    {
     "data": {
      "application/vnd.jupyter.widget-view+json": {
       "model_id": "58c387d53337481eb73b06c72dcac1aa",
       "version_major": 2,
       "version_minor": 0
      },
      "text/plain": [
       "0it [00:00, ?it/s]"
      ]
     },
     "metadata": {},
     "output_type": "display_data"
    },
    {
     "data": {
      "application/vnd.jupyter.widget-view+json": {
       "model_id": "eb039d9bb40541ea933a6632a6a67d75",
       "version_major": 2,
       "version_minor": 0
      },
      "text/plain": [
       "0it [00:00, ?it/s]"
      ]
     },
     "metadata": {},
     "output_type": "display_data"
    },
    {
     "data": {
      "application/vnd.jupyter.widget-view+json": {
       "model_id": "a426a7fd840040e3afd55d0b2de8b1da",
       "version_major": 2,
       "version_minor": 0
      },
      "text/plain": [
       "0it [00:00, ?it/s]"
      ]
     },
     "metadata": {},
     "output_type": "display_data"
    },
    {
     "data": {
      "application/vnd.jupyter.widget-view+json": {
       "model_id": "bd1065e6712144f9881da696c920c831",
       "version_major": 2,
       "version_minor": 0
      },
      "text/plain": [
       "  0%|          | 0/29 [00:00<?, ?it/s]"
      ]
     },
     "metadata": {},
     "output_type": "display_data"
    },
    {
     "data": {
      "application/vnd.jupyter.widget-view+json": {
       "model_id": "d437bb1260174e5e8ad417490f7a03c5",
       "version_major": 2,
       "version_minor": 0
      },
      "text/plain": [
       "  0%|          | 0/30 [00:00<?, ?it/s]"
      ]
     },
     "metadata": {},
     "output_type": "display_data"
    },
    {
     "data": {
      "application/vnd.jupyter.widget-view+json": {
       "model_id": "61ce929cc4d640ac91d3431ced396c39",
       "version_major": 2,
       "version_minor": 0
      },
      "text/plain": [
       "  0%|          | 0/30 [00:00<?, ?it/s]"
      ]
     },
     "metadata": {},
     "output_type": "display_data"
    },
    {
     "data": {
      "application/vnd.jupyter.widget-view+json": {
       "model_id": "683a9ad644b64eefb6e5897b514a49b9",
       "version_major": 2,
       "version_minor": 0
      },
      "text/plain": [
       "  0%|          | 0/30 [00:00<?, ?it/s]"
      ]
     },
     "metadata": {},
     "output_type": "display_data"
    },
    {
     "data": {
      "application/vnd.jupyter.widget-view+json": {
       "model_id": "15f08ea2ee52451293f7d12ac1382c87",
       "version_major": 2,
       "version_minor": 0
      },
      "text/plain": [
       "  0%|          | 0/30 [00:00<?, ?it/s]"
      ]
     },
     "metadata": {},
     "output_type": "display_data"
    },
    {
     "data": {
      "application/vnd.jupyter.widget-view+json": {
       "model_id": "f95ecebe8ef64792bf3e318a74bcf6df",
       "version_major": 2,
       "version_minor": 0
      },
      "text/plain": [
       "  0%|          | 0/30 [00:00<?, ?it/s]"
      ]
     },
     "metadata": {},
     "output_type": "display_data"
    },
    {
     "data": {
      "application/vnd.jupyter.widget-view+json": {
       "model_id": "0c75ac185b5d44248f313c99b7854ffc",
       "version_major": 2,
       "version_minor": 0
      },
      "text/plain": [
       "  0%|          | 0/33 [00:00<?, ?it/s]"
      ]
     },
     "metadata": {},
     "output_type": "display_data"
    },
    {
     "data": {
      "application/vnd.jupyter.widget-view+json": {
       "model_id": "001452bf5c8a47af9753249dd6ae8c92",
       "version_major": 2,
       "version_minor": 0
      },
      "text/plain": [
       "  0%|          | 0/30 [00:00<?, ?it/s]"
      ]
     },
     "metadata": {},
     "output_type": "display_data"
    },
    {
     "data": {
      "application/vnd.jupyter.widget-view+json": {
       "model_id": "c9be1c13c8ec48e9a952081aa1d788f7",
       "version_major": 2,
       "version_minor": 0
      },
      "text/plain": [
       "  0%|          | 0/30 [00:00<?, ?it/s]"
      ]
     },
     "metadata": {},
     "output_type": "display_data"
    },
    {
     "data": {
      "application/vnd.jupyter.widget-view+json": {
       "model_id": "bec91803cbb04f26b88c2891621633ff",
       "version_major": 2,
       "version_minor": 0
      },
      "text/plain": [
       "0it [00:00, ?it/s]"
      ]
     },
     "metadata": {},
     "output_type": "display_data"
    },
    {
     "data": {
      "application/vnd.jupyter.widget-view+json": {
       "model_id": "3b6ac96901f948b1960cbbe695243204",
       "version_major": 2,
       "version_minor": 0
      },
      "text/plain": [
       "  0%|          | 0/30 [00:00<?, ?it/s]"
      ]
     },
     "metadata": {},
     "output_type": "display_data"
    },
    {
     "data": {
      "application/vnd.jupyter.widget-view+json": {
       "model_id": "112885ebca4c4645952125518cac62a2",
       "version_major": 2,
       "version_minor": 0
      },
      "text/plain": [
       "  0%|          | 0/30 [00:00<?, ?it/s]"
      ]
     },
     "metadata": {},
     "output_type": "display_data"
    },
    {
     "data": {
      "application/vnd.jupyter.widget-view+json": {
       "model_id": "04ee734341f14fa9b769fa18e29c102b",
       "version_major": 2,
       "version_minor": 0
      },
      "text/plain": [
       "  0%|          | 0/30 [00:00<?, ?it/s]"
      ]
     },
     "metadata": {},
     "output_type": "display_data"
    },
    {
     "data": {
      "application/vnd.jupyter.widget-view+json": {
       "model_id": "ecb7f37853ce459b9f20c56763625942",
       "version_major": 2,
       "version_minor": 0
      },
      "text/plain": [
       "  0%|          | 0/30 [00:00<?, ?it/s]"
      ]
     },
     "metadata": {},
     "output_type": "display_data"
    },
    {
     "data": {
      "application/vnd.jupyter.widget-view+json": {
       "model_id": "dfeeb617a4964c39965a32698813919e",
       "version_major": 2,
       "version_minor": 0
      },
      "text/plain": [
       "  0%|          | 0/30 [00:00<?, ?it/s]"
      ]
     },
     "metadata": {},
     "output_type": "display_data"
    },
    {
     "data": {
      "application/vnd.jupyter.widget-view+json": {
       "model_id": "91ee1ebb83af48f3b20ed43f7f4fb076",
       "version_major": 2,
       "version_minor": 0
      },
      "text/plain": [
       "  0%|          | 0/30 [00:00<?, ?it/s]"
      ]
     },
     "metadata": {},
     "output_type": "display_data"
    },
    {
     "data": {
      "application/vnd.jupyter.widget-view+json": {
       "model_id": "411bd3a0c8f54a97b6ba9b6143d81f60",
       "version_major": 2,
       "version_minor": 0
      },
      "text/plain": [
       "  0%|          | 0/30 [00:00<?, ?it/s]"
      ]
     },
     "metadata": {},
     "output_type": "display_data"
    },
    {
     "data": {
      "application/vnd.jupyter.widget-view+json": {
       "model_id": "ce1508d39a8148e0b655b705ba42c34d",
       "version_major": 2,
       "version_minor": 0
      },
      "text/plain": [
       "  0%|          | 0/30 [00:00<?, ?it/s]"
      ]
     },
     "metadata": {},
     "output_type": "display_data"
    },
    {
     "data": {
      "application/vnd.jupyter.widget-view+json": {
       "model_id": "d77211ab1234477ca9f465d68808142e",
       "version_major": 2,
       "version_minor": 0
      },
      "text/plain": [
       "  0%|          | 0/30 [00:00<?, ?it/s]"
      ]
     },
     "metadata": {},
     "output_type": "display_data"
    },
    {
     "data": {
      "application/vnd.jupyter.widget-view+json": {
       "model_id": "3f130e6c5bce416bbf693b63153f56f3",
       "version_major": 2,
       "version_minor": 0
      },
      "text/plain": [
       "  0%|          | 0/30 [00:00<?, ?it/s]"
      ]
     },
     "metadata": {},
     "output_type": "display_data"
    },
    {
     "data": {
      "application/vnd.jupyter.widget-view+json": {
       "model_id": "0c256c06285043fc9e7b6eb7a30e44ee",
       "version_major": 2,
       "version_minor": 0
      },
      "text/plain": [
       "  0%|          | 0/30 [00:00<?, ?it/s]"
      ]
     },
     "metadata": {},
     "output_type": "display_data"
    },
    {
     "data": {
      "application/vnd.jupyter.widget-view+json": {
       "model_id": "f5d02a3069bc45e6a38c13bd90957eec",
       "version_major": 2,
       "version_minor": 0
      },
      "text/plain": [
       "  0%|          | 0/30 [00:00<?, ?it/s]"
      ]
     },
     "metadata": {},
     "output_type": "display_data"
    },
    {
     "data": {
      "application/vnd.jupyter.widget-view+json": {
       "model_id": "0d696e4adf544c82b296263621c30843",
       "version_major": 2,
       "version_minor": 0
      },
      "text/plain": [
       "  0%|          | 0/30 [00:00<?, ?it/s]"
      ]
     },
     "metadata": {},
     "output_type": "display_data"
    },
    {
     "data": {
      "application/vnd.jupyter.widget-view+json": {
       "model_id": "4bdae1bcdf5b4521a2091a3285ebe18f",
       "version_major": 2,
       "version_minor": 0
      },
      "text/plain": [
       "  0%|          | 0/30 [00:00<?, ?it/s]"
      ]
     },
     "metadata": {},
     "output_type": "display_data"
    },
    {
     "data": {
      "application/vnd.jupyter.widget-view+json": {
       "model_id": "9b24fb701e674b19b8a1c0a1396c6928",
       "version_major": 2,
       "version_minor": 0
      },
      "text/plain": [
       "  0%|          | 0/30 [00:00<?, ?it/s]"
      ]
     },
     "metadata": {},
     "output_type": "display_data"
    },
    {
     "data": {
      "application/vnd.jupyter.widget-view+json": {
       "model_id": "0e3498c04a654c91846292e1148e45d8",
       "version_major": 2,
       "version_minor": 0
      },
      "text/plain": [
       "  0%|          | 0/30 [00:00<?, ?it/s]"
      ]
     },
     "metadata": {},
     "output_type": "display_data"
    },
    {
     "data": {
      "application/vnd.jupyter.widget-view+json": {
       "model_id": "bdbeb40a5be54a5dab5a437e97a4cb7b",
       "version_major": 2,
       "version_minor": 0
      },
      "text/plain": [
       "  0%|          | 0/30 [00:00<?, ?it/s]"
      ]
     },
     "metadata": {},
     "output_type": "display_data"
    },
    {
     "data": {
      "application/vnd.jupyter.widget-view+json": {
       "model_id": "5101be3ac6144de8911ac677a72dea9c",
       "version_major": 2,
       "version_minor": 0
      },
      "text/plain": [
       "  0%|          | 0/30 [00:00<?, ?it/s]"
      ]
     },
     "metadata": {},
     "output_type": "display_data"
    },
    {
     "data": {
      "application/vnd.jupyter.widget-view+json": {
       "model_id": "6e69e0c43cb0457ab88fb98dc3659d8a",
       "version_major": 2,
       "version_minor": 0
      },
      "text/plain": [
       "  0%|          | 0/30 [00:00<?, ?it/s]"
      ]
     },
     "metadata": {},
     "output_type": "display_data"
    },
    {
     "data": {
      "application/vnd.jupyter.widget-view+json": {
       "model_id": "47863e6626f04f079a8e2d921244f399",
       "version_major": 2,
       "version_minor": 0
      },
      "text/plain": [
       "  0%|          | 0/30 [00:00<?, ?it/s]"
      ]
     },
     "metadata": {},
     "output_type": "display_data"
    },
    {
     "data": {
      "application/vnd.jupyter.widget-view+json": {
       "model_id": "ccaacb4eaa6440b8ace32720dcdad6dd",
       "version_major": 2,
       "version_minor": 0
      },
      "text/plain": [
       "  0%|          | 0/23 [00:00<?, ?it/s]"
      ]
     },
     "metadata": {},
     "output_type": "display_data"
    },
    {
     "data": {
      "application/vnd.jupyter.widget-view+json": {
       "model_id": "fdacda7667d645bebba7657ed031a777",
       "version_major": 2,
       "version_minor": 0
      },
      "text/plain": [
       "  0%|          | 0/20 [00:00<?, ?it/s]"
      ]
     },
     "metadata": {},
     "output_type": "display_data"
    },
    {
     "data": {
      "application/vnd.jupyter.widget-view+json": {
       "model_id": "aacbc55ef9654b8b8bb08bde07ce58a4",
       "version_major": 2,
       "version_minor": 0
      },
      "text/plain": [
       "  0%|          | 0/20 [00:00<?, ?it/s]"
      ]
     },
     "metadata": {},
     "output_type": "display_data"
    },
    {
     "data": {
      "application/vnd.jupyter.widget-view+json": {
       "model_id": "9efaf6adc90b4489bcd82f8b05d9f6e6",
       "version_major": 2,
       "version_minor": 0
      },
      "text/plain": [
       "  0%|          | 0/20 [00:00<?, ?it/s]"
      ]
     },
     "metadata": {},
     "output_type": "display_data"
    },
    {
     "data": {
      "application/vnd.jupyter.widget-view+json": {
       "model_id": "dcea1d8f4e694f2ab00419a3721d777e",
       "version_major": 2,
       "version_minor": 0
      },
      "text/plain": [
       "  0%|          | 0/20 [00:00<?, ?it/s]"
      ]
     },
     "metadata": {},
     "output_type": "display_data"
    },
    {
     "data": {
      "application/vnd.jupyter.widget-view+json": {
       "model_id": "7fc457523f4d4be3a7bafa74c4ea0a83",
       "version_major": 2,
       "version_minor": 0
      },
      "text/plain": [
       "  0%|          | 0/20 [00:00<?, ?it/s]"
      ]
     },
     "metadata": {},
     "output_type": "display_data"
    },
    {
     "data": {
      "application/vnd.jupyter.widget-view+json": {
       "model_id": "e57a1ef409484fdb94da4c4cbf17ea00",
       "version_major": 2,
       "version_minor": 0
      },
      "text/plain": [
       "  0%|          | 0/20 [00:00<?, ?it/s]"
      ]
     },
     "metadata": {},
     "output_type": "display_data"
    },
    {
     "data": {
      "application/vnd.jupyter.widget-view+json": {
       "model_id": "05c448bf08bb4d75ad44ec5ef104767e",
       "version_major": 2,
       "version_minor": 0
      },
      "text/plain": [
       "  0%|          | 0/20 [00:00<?, ?it/s]"
      ]
     },
     "metadata": {},
     "output_type": "display_data"
    },
    {
     "data": {
      "application/vnd.jupyter.widget-view+json": {
       "model_id": "c401944984d04d06823ca2d2c92639c0",
       "version_major": 2,
       "version_minor": 0
      },
      "text/plain": [
       "  0%|          | 0/20 [00:00<?, ?it/s]"
      ]
     },
     "metadata": {},
     "output_type": "display_data"
    },
    {
     "data": {
      "application/vnd.jupyter.widget-view+json": {
       "model_id": "eec649bf1ba74914a408e4b4a84faea8",
       "version_major": 2,
       "version_minor": 0
      },
      "text/plain": [
       "  0%|          | 0/20 [00:00<?, ?it/s]"
      ]
     },
     "metadata": {},
     "output_type": "display_data"
    },
    {
     "data": {
      "application/vnd.jupyter.widget-view+json": {
       "model_id": "8e7aaf510fe04ae2aeaa10e14deac7ae",
       "version_major": 2,
       "version_minor": 0
      },
      "text/plain": [
       "  0%|          | 0/20 [00:00<?, ?it/s]"
      ]
     },
     "metadata": {},
     "output_type": "display_data"
    },
    {
     "data": {
      "application/vnd.jupyter.widget-view+json": {
       "model_id": "f64f8dde86fd4febb945e4f96503894f",
       "version_major": 2,
       "version_minor": 0
      },
      "text/plain": [
       "  0%|          | 0/20 [00:00<?, ?it/s]"
      ]
     },
     "metadata": {},
     "output_type": "display_data"
    },
    {
     "data": {
      "application/vnd.jupyter.widget-view+json": {
       "model_id": "020b033994ef4ab7aa67ac6ba9a6c96f",
       "version_major": 2,
       "version_minor": 0
      },
      "text/plain": [
       "  0%|          | 0/20 [00:00<?, ?it/s]"
      ]
     },
     "metadata": {},
     "output_type": "display_data"
    },
    {
     "data": {
      "application/vnd.jupyter.widget-view+json": {
       "model_id": "dbe26b275dcb4b1180218cb75aa35aaa",
       "version_major": 2,
       "version_minor": 0
      },
      "text/plain": [
       "  0%|          | 0/20 [00:00<?, ?it/s]"
      ]
     },
     "metadata": {},
     "output_type": "display_data"
    },
    {
     "data": {
      "application/vnd.jupyter.widget-view+json": {
       "model_id": "d6f6ab0fbf7c40009fff98456327a967",
       "version_major": 2,
       "version_minor": 0
      },
      "text/plain": [
       "  0%|          | 0/20 [00:00<?, ?it/s]"
      ]
     },
     "metadata": {},
     "output_type": "display_data"
    },
    {
     "data": {
      "application/vnd.jupyter.widget-view+json": {
       "model_id": "d42d27c1f3414af788af75787f5e9751",
       "version_major": 2,
       "version_minor": 0
      },
      "text/plain": [
       "  0%|          | 0/20 [00:00<?, ?it/s]"
      ]
     },
     "metadata": {},
     "output_type": "display_data"
    },
    {
     "data": {
      "application/vnd.jupyter.widget-view+json": {
       "model_id": "18dfaa84b2ad4a90b4f5ce91ca13de8f",
       "version_major": 2,
       "version_minor": 0
      },
      "text/plain": [
       "  0%|          | 0/20 [00:00<?, ?it/s]"
      ]
     },
     "metadata": {},
     "output_type": "display_data"
    },
    {
     "data": {
      "application/vnd.jupyter.widget-view+json": {
       "model_id": "bdaaefdf15874b1aa1bbd51b8a51c746",
       "version_major": 2,
       "version_minor": 0
      },
      "text/plain": [
       "  0%|          | 0/20 [00:00<?, ?it/s]"
      ]
     },
     "metadata": {},
     "output_type": "display_data"
    },
    {
     "data": {
      "application/vnd.jupyter.widget-view+json": {
       "model_id": "24ebc47dc5cf46969a65b04d99f5c023",
       "version_major": 2,
       "version_minor": 0
      },
      "text/plain": [
       "  0%|          | 0/20 [00:00<?, ?it/s]"
      ]
     },
     "metadata": {},
     "output_type": "display_data"
    },
    {
     "data": {
      "application/vnd.jupyter.widget-view+json": {
       "model_id": "a68ff32ff3dd4b098f181836f704b845",
       "version_major": 2,
       "version_minor": 0
      },
      "text/plain": [
       "  0%|          | 0/20 [00:00<?, ?it/s]"
      ]
     },
     "metadata": {},
     "output_type": "display_data"
    },
    {
     "data": {
      "application/vnd.jupyter.widget-view+json": {
       "model_id": "0a8625e74cf34d658d35d942b44a155f",
       "version_major": 2,
       "version_minor": 0
      },
      "text/plain": [
       "  0%|          | 0/20 [00:00<?, ?it/s]"
      ]
     },
     "metadata": {},
     "output_type": "display_data"
    },
    {
     "data": {
      "application/vnd.jupyter.widget-view+json": {
       "model_id": "412ae8f0fcce409f90b21406285c78f1",
       "version_major": 2,
       "version_minor": 0
      },
      "text/plain": [
       "  0%|          | 0/20 [00:00<?, ?it/s]"
      ]
     },
     "metadata": {},
     "output_type": "display_data"
    },
    {
     "data": {
      "application/vnd.jupyter.widget-view+json": {
       "model_id": "aa0b29e5c0084878a779af1fb3dcd8a8",
       "version_major": 2,
       "version_minor": 0
      },
      "text/plain": [
       "  0%|          | 0/20 [00:00<?, ?it/s]"
      ]
     },
     "metadata": {},
     "output_type": "display_data"
    },
    {
     "data": {
      "application/vnd.jupyter.widget-view+json": {
       "model_id": "eec0382e6948426a962034371256511f",
       "version_major": 2,
       "version_minor": 0
      },
      "text/plain": [
       "  0%|          | 0/20 [00:00<?, ?it/s]"
      ]
     },
     "metadata": {},
     "output_type": "display_data"
    },
    {
     "data": {
      "application/vnd.jupyter.widget-view+json": {
       "model_id": "31480d63ef7b4ec7a6dca38623cd4734",
       "version_major": 2,
       "version_minor": 0
      },
      "text/plain": [
       "  0%|          | 0/16 [00:00<?, ?it/s]"
      ]
     },
     "metadata": {},
     "output_type": "display_data"
    },
    {
     "data": {
      "application/vnd.jupyter.widget-view+json": {
       "model_id": "e1f89f316a0c4ce39aa8458a261b50aa",
       "version_major": 2,
       "version_minor": 0
      },
      "text/plain": [
       "  0%|          | 0/20 [00:00<?, ?it/s]"
      ]
     },
     "metadata": {},
     "output_type": "display_data"
    },
    {
     "data": {
      "application/vnd.jupyter.widget-view+json": {
       "model_id": "74cadd4448134bae85edc5e94be9716a",
       "version_major": 2,
       "version_minor": 0
      },
      "text/plain": [
       "  0%|          | 0/20 [00:00<?, ?it/s]"
      ]
     },
     "metadata": {},
     "output_type": "display_data"
    },
    {
     "data": {
      "application/vnd.jupyter.widget-view+json": {
       "model_id": "a2b0302bdbbc43fa875eb989f76a1a5a",
       "version_major": 2,
       "version_minor": 0
      },
      "text/plain": [
       "  0%|          | 0/20 [00:00<?, ?it/s]"
      ]
     },
     "metadata": {},
     "output_type": "display_data"
    },
    {
     "data": {
      "application/vnd.jupyter.widget-view+json": {
       "model_id": "91a0d1c1660d42d5bf4ea5b96175a99f",
       "version_major": 2,
       "version_minor": 0
      },
      "text/plain": [
       "  0%|          | 0/20 [00:00<?, ?it/s]"
      ]
     },
     "metadata": {},
     "output_type": "display_data"
    },
    {
     "data": {
      "application/vnd.jupyter.widget-view+json": {
       "model_id": "9ea01b3b88004c6fabdd6cf6dc29839b",
       "version_major": 2,
       "version_minor": 0
      },
      "text/plain": [
       "  0%|          | 0/20 [00:00<?, ?it/s]"
      ]
     },
     "metadata": {},
     "output_type": "display_data"
    },
    {
     "data": {
      "application/vnd.jupyter.widget-view+json": {
       "model_id": "b58b48ebc8724b7f9cf0b37ca10e08ac",
       "version_major": 2,
       "version_minor": 0
      },
      "text/plain": [
       "  0%|          | 0/20 [00:00<?, ?it/s]"
      ]
     },
     "metadata": {},
     "output_type": "display_data"
    },
    {
     "data": {
      "application/vnd.jupyter.widget-view+json": {
       "model_id": "4ef189917a5a4150a7f08a0b8c1dde2d",
       "version_major": 2,
       "version_minor": 0
      },
      "text/plain": [
       "  0%|          | 0/20 [00:00<?, ?it/s]"
      ]
     },
     "metadata": {},
     "output_type": "display_data"
    },
    {
     "data": {
      "application/vnd.jupyter.widget-view+json": {
       "model_id": "1b3c47edca3e46739f17d9b2597ed85b",
       "version_major": 2,
       "version_minor": 0
      },
      "text/plain": [
       "  0%|          | 0/20 [00:00<?, ?it/s]"
      ]
     },
     "metadata": {},
     "output_type": "display_data"
    },
    {
     "data": {
      "application/vnd.jupyter.widget-view+json": {
       "model_id": "52d477a395d249eda0119f9055779085",
       "version_major": 2,
       "version_minor": 0
      },
      "text/plain": [
       "  0%|          | 0/20 [00:00<?, ?it/s]"
      ]
     },
     "metadata": {},
     "output_type": "display_data"
    },
    {
     "data": {
      "application/vnd.jupyter.widget-view+json": {
       "model_id": "e429493d26744a6ebc6d473e76e35821",
       "version_major": 2,
       "version_minor": 0
      },
      "text/plain": [
       "  0%|          | 0/20 [00:00<?, ?it/s]"
      ]
     },
     "metadata": {},
     "output_type": "display_data"
    },
    {
     "data": {
      "application/vnd.jupyter.widget-view+json": {
       "model_id": "4e18f8ee438f4b5b9772c003c1eed6e3",
       "version_major": 2,
       "version_minor": 0
      },
      "text/plain": [
       "  0%|          | 0/20 [00:00<?, ?it/s]"
      ]
     },
     "metadata": {},
     "output_type": "display_data"
    },
    {
     "data": {
      "application/vnd.jupyter.widget-view+json": {
       "model_id": "b4b17c86354b47539dad8e56fc6a450b",
       "version_major": 2,
       "version_minor": 0
      },
      "text/plain": [
       "  0%|          | 0/20 [00:00<?, ?it/s]"
      ]
     },
     "metadata": {},
     "output_type": "display_data"
    },
    {
     "ename": "ConnectionResetError",
     "evalue": "[WinError 10054] Connessione in corso interrotta forzatamente dall'host remoto",
     "output_type": "error",
     "traceback": [
      "\u001b[1;31m---------------------------------------------------------------------------\u001b[0m",
      "\u001b[1;31mConnectionResetError\u001b[0m                      Traceback (most recent call last)",
      "\u001b[1;32m~\\AppData\\Local\\Temp\\ipykernel_25088\\2089064547.py\u001b[0m in \u001b[0;36m<module>\u001b[1;34m\u001b[0m\n\u001b[0;32m      8\u001b[0m     \u001b[0mdf\u001b[0m \u001b[1;33m=\u001b[0m \u001b[0mpd\u001b[0m\u001b[1;33m.\u001b[0m\u001b[0mDataFrame\u001b[0m\u001b[1;33m(\u001b[0m\u001b[0mcolumns\u001b[0m\u001b[1;33m=\u001b[0m\u001b[1;33m[\u001b[0m\u001b[1;34m'title'\u001b[0m\u001b[1;33m,\u001b[0m \u001b[1;34m'link'\u001b[0m\u001b[1;33m,\u001b[0m \u001b[1;34m'published_parsed'\u001b[0m\u001b[1;33m,\u001b[0m \u001b[1;34m'body'\u001b[0m\u001b[1;33m]\u001b[0m\u001b[1;33m)\u001b[0m\u001b[1;33m\u001b[0m\u001b[1;33m\u001b[0m\u001b[0m\n\u001b[0;32m      9\u001b[0m     \u001b[1;32mfor\u001b[0m \u001b[0msnapshot\u001b[0m \u001b[1;32min\u001b[0m \u001b[0mtqdm\u001b[0m\u001b[1;33m(\u001b[0m\u001b[0msnapshots_dict\u001b[0m\u001b[1;33m[\u001b[0m\u001b[0murl\u001b[0m\u001b[1;33m]\u001b[0m\u001b[1;33m)\u001b[0m\u001b[1;33m:\u001b[0m\u001b[1;33m\u001b[0m\u001b[1;33m\u001b[0m\u001b[0m\n\u001b[1;32m---> 10\u001b[1;33m         \u001b[0mparsed_list\u001b[0m \u001b[1;33m=\u001b[0m \u001b[0mfeedparser\u001b[0m\u001b[1;33m.\u001b[0m\u001b[0mparse\u001b[0m\u001b[1;33m(\u001b[0m\u001b[0msnapshot\u001b[0m\u001b[1;33m)\u001b[0m\u001b[1;33m[\u001b[0m\u001b[1;34m'entries'\u001b[0m\u001b[1;33m]\u001b[0m\u001b[1;33m\u001b[0m\u001b[1;33m\u001b[0m\u001b[0m\n\u001b[0m\u001b[0;32m     11\u001b[0m         \u001b[1;32mfor\u001b[0m \u001b[0mparsed\u001b[0m \u001b[1;32min\u001b[0m \u001b[0mtqdm\u001b[0m\u001b[1;33m(\u001b[0m\u001b[0mparsed_list\u001b[0m\u001b[1;33m)\u001b[0m\u001b[1;33m:\u001b[0m\u001b[1;33m\u001b[0m\u001b[1;33m\u001b[0m\u001b[0m\n\u001b[0;32m     12\u001b[0m             \u001b[1;32mif\u001b[0m \u001b[1;32mnot\u001b[0m \u001b[0many\u001b[0m\u001b[1;33m(\u001b[0m\u001b[0mdf\u001b[0m\u001b[1;33m[\u001b[0m\u001b[1;34m'link'\u001b[0m\u001b[1;33m]\u001b[0m \u001b[1;33m==\u001b[0m \u001b[0mparsed\u001b[0m\u001b[1;33m[\u001b[0m\u001b[1;34m'link'\u001b[0m\u001b[1;33m]\u001b[0m\u001b[1;33m)\u001b[0m\u001b[1;33m:\u001b[0m\u001b[1;33m\u001b[0m\u001b[1;33m\u001b[0m\u001b[0m\n",
      "\u001b[1;32m~\\anaconda3\\lib\\site-packages\\feedparser\\api.py\u001b[0m in \u001b[0;36mparse\u001b[1;34m(url_file_stream_or_string, etag, modified, agent, referrer, handlers, request_headers, response_headers, resolve_relative_uris, sanitize_html)\u001b[0m\n\u001b[0;32m    214\u001b[0m \u001b[1;33m\u001b[0m\u001b[0m\n\u001b[0;32m    215\u001b[0m     \u001b[1;32mtry\u001b[0m\u001b[1;33m:\u001b[0m\u001b[1;33m\u001b[0m\u001b[1;33m\u001b[0m\u001b[0m\n\u001b[1;32m--> 216\u001b[1;33m         \u001b[0mdata\u001b[0m \u001b[1;33m=\u001b[0m \u001b[0m_open_resource\u001b[0m\u001b[1;33m(\u001b[0m\u001b[0murl_file_stream_or_string\u001b[0m\u001b[1;33m,\u001b[0m \u001b[0metag\u001b[0m\u001b[1;33m,\u001b[0m \u001b[0mmodified\u001b[0m\u001b[1;33m,\u001b[0m \u001b[0magent\u001b[0m\u001b[1;33m,\u001b[0m \u001b[0mreferrer\u001b[0m\u001b[1;33m,\u001b[0m \u001b[0mhandlers\u001b[0m\u001b[1;33m,\u001b[0m \u001b[0mrequest_headers\u001b[0m\u001b[1;33m,\u001b[0m \u001b[0mresult\u001b[0m\u001b[1;33m)\u001b[0m\u001b[1;33m\u001b[0m\u001b[1;33m\u001b[0m\u001b[0m\n\u001b[0m\u001b[0;32m    217\u001b[0m     \u001b[1;32mexcept\u001b[0m \u001b[0murllib\u001b[0m\u001b[1;33m.\u001b[0m\u001b[0merror\u001b[0m\u001b[1;33m.\u001b[0m\u001b[0mURLError\u001b[0m \u001b[1;32mas\u001b[0m \u001b[0merror\u001b[0m\u001b[1;33m:\u001b[0m\u001b[1;33m\u001b[0m\u001b[1;33m\u001b[0m\u001b[0m\n\u001b[0;32m    218\u001b[0m         result.update({\n",
      "\u001b[1;32m~\\anaconda3\\lib\\site-packages\\feedparser\\api.py\u001b[0m in \u001b[0;36m_open_resource\u001b[1;34m(url_file_stream_or_string, etag, modified, agent, referrer, handlers, request_headers, result)\u001b[0m\n\u001b[0;32m    113\u001b[0m     \u001b[1;32mif\u001b[0m \u001b[0misinstance\u001b[0m\u001b[1;33m(\u001b[0m\u001b[0murl_file_stream_or_string\u001b[0m\u001b[1;33m,\u001b[0m \u001b[0mstr\u001b[0m\u001b[1;33m)\u001b[0m\u001b[0;31m \u001b[0m\u001b[0;31m\\\u001b[0m\u001b[1;33m\u001b[0m\u001b[1;33m\u001b[0m\u001b[0m\n\u001b[0;32m    114\u001b[0m        \u001b[1;32mand\u001b[0m \u001b[0murllib\u001b[0m\u001b[1;33m.\u001b[0m\u001b[0mparse\u001b[0m\u001b[1;33m.\u001b[0m\u001b[0murlparse\u001b[0m\u001b[1;33m(\u001b[0m\u001b[0murl_file_stream_or_string\u001b[0m\u001b[1;33m)\u001b[0m\u001b[1;33m[\u001b[0m\u001b[1;36m0\u001b[0m\u001b[1;33m]\u001b[0m \u001b[1;32min\u001b[0m \u001b[1;33m(\u001b[0m\u001b[1;34m'http'\u001b[0m\u001b[1;33m,\u001b[0m \u001b[1;34m'https'\u001b[0m\u001b[1;33m,\u001b[0m \u001b[1;34m'ftp'\u001b[0m\u001b[1;33m,\u001b[0m \u001b[1;34m'file'\u001b[0m\u001b[1;33m,\u001b[0m \u001b[1;34m'feed'\u001b[0m\u001b[1;33m)\u001b[0m\u001b[1;33m:\u001b[0m\u001b[1;33m\u001b[0m\u001b[1;33m\u001b[0m\u001b[0m\n\u001b[1;32m--> 115\u001b[1;33m         \u001b[1;32mreturn\u001b[0m \u001b[0mhttp\u001b[0m\u001b[1;33m.\u001b[0m\u001b[0mget\u001b[0m\u001b[1;33m(\u001b[0m\u001b[0murl_file_stream_or_string\u001b[0m\u001b[1;33m,\u001b[0m \u001b[0metag\u001b[0m\u001b[1;33m,\u001b[0m \u001b[0mmodified\u001b[0m\u001b[1;33m,\u001b[0m \u001b[0magent\u001b[0m\u001b[1;33m,\u001b[0m \u001b[0mreferrer\u001b[0m\u001b[1;33m,\u001b[0m \u001b[0mhandlers\u001b[0m\u001b[1;33m,\u001b[0m \u001b[0mrequest_headers\u001b[0m\u001b[1;33m,\u001b[0m \u001b[0mresult\u001b[0m\u001b[1;33m)\u001b[0m\u001b[1;33m\u001b[0m\u001b[1;33m\u001b[0m\u001b[0m\n\u001b[0m\u001b[0;32m    116\u001b[0m \u001b[1;33m\u001b[0m\u001b[0m\n\u001b[0;32m    117\u001b[0m     \u001b[1;31m# try to open with native open function (if url_file_stream_or_string is a filename)\u001b[0m\u001b[1;33m\u001b[0m\u001b[1;33m\u001b[0m\u001b[0m\n",
      "\u001b[1;32m~\\anaconda3\\lib\\site-packages\\feedparser\\http.py\u001b[0m in \u001b[0;36mget\u001b[1;34m(url, etag, modified, agent, referrer, handlers, request_headers, result)\u001b[0m\n\u001b[0;32m    170\u001b[0m     \u001b[0mopener\u001b[0m\u001b[1;33m.\u001b[0m\u001b[0maddheaders\u001b[0m \u001b[1;33m=\u001b[0m \u001b[1;33m[\u001b[0m\u001b[1;33m]\u001b[0m  \u001b[1;31m# RMK - must clear so we only send our custom User-Agent\u001b[0m\u001b[1;33m\u001b[0m\u001b[1;33m\u001b[0m\u001b[0m\n\u001b[0;32m    171\u001b[0m     \u001b[0mf\u001b[0m \u001b[1;33m=\u001b[0m \u001b[0mopener\u001b[0m\u001b[1;33m.\u001b[0m\u001b[0mopen\u001b[0m\u001b[1;33m(\u001b[0m\u001b[0mrequest\u001b[0m\u001b[1;33m)\u001b[0m\u001b[1;33m\u001b[0m\u001b[1;33m\u001b[0m\u001b[0m\n\u001b[1;32m--> 172\u001b[1;33m     \u001b[0mdata\u001b[0m \u001b[1;33m=\u001b[0m \u001b[0mf\u001b[0m\u001b[1;33m.\u001b[0m\u001b[0mread\u001b[0m\u001b[1;33m(\u001b[0m\u001b[1;33m)\u001b[0m\u001b[1;33m\u001b[0m\u001b[1;33m\u001b[0m\u001b[0m\n\u001b[0m\u001b[0;32m    173\u001b[0m     \u001b[0mf\u001b[0m\u001b[1;33m.\u001b[0m\u001b[0mclose\u001b[0m\u001b[1;33m(\u001b[0m\u001b[1;33m)\u001b[0m\u001b[1;33m\u001b[0m\u001b[1;33m\u001b[0m\u001b[0m\n\u001b[0;32m    174\u001b[0m \u001b[1;33m\u001b[0m\u001b[0m\n",
      "\u001b[1;32m~\\anaconda3\\lib\\http\\client.py\u001b[0m in \u001b[0;36mread\u001b[1;34m(self, amt)\u001b[0m\n\u001b[0;32m    474\u001b[0m             \u001b[1;32melse\u001b[0m\u001b[1;33m:\u001b[0m\u001b[1;33m\u001b[0m\u001b[1;33m\u001b[0m\u001b[0m\n\u001b[0;32m    475\u001b[0m                 \u001b[1;32mtry\u001b[0m\u001b[1;33m:\u001b[0m\u001b[1;33m\u001b[0m\u001b[1;33m\u001b[0m\u001b[0m\n\u001b[1;32m--> 476\u001b[1;33m                     \u001b[0ms\u001b[0m \u001b[1;33m=\u001b[0m \u001b[0mself\u001b[0m\u001b[1;33m.\u001b[0m\u001b[0m_safe_read\u001b[0m\u001b[1;33m(\u001b[0m\u001b[0mself\u001b[0m\u001b[1;33m.\u001b[0m\u001b[0mlength\u001b[0m\u001b[1;33m)\u001b[0m\u001b[1;33m\u001b[0m\u001b[1;33m\u001b[0m\u001b[0m\n\u001b[0m\u001b[0;32m    477\u001b[0m                 \u001b[1;32mexcept\u001b[0m \u001b[0mIncompleteRead\u001b[0m\u001b[1;33m:\u001b[0m\u001b[1;33m\u001b[0m\u001b[1;33m\u001b[0m\u001b[0m\n\u001b[0;32m    478\u001b[0m                     \u001b[0mself\u001b[0m\u001b[1;33m.\u001b[0m\u001b[0m_close_conn\u001b[0m\u001b[1;33m(\u001b[0m\u001b[1;33m)\u001b[0m\u001b[1;33m\u001b[0m\u001b[1;33m\u001b[0m\u001b[0m\n",
      "\u001b[1;32m~\\anaconda3\\lib\\http\\client.py\u001b[0m in \u001b[0;36m_safe_read\u001b[1;34m(self, amt)\u001b[0m\n\u001b[0;32m    624\u001b[0m         \u001b[0ms\u001b[0m \u001b[1;33m=\u001b[0m \u001b[1;33m[\u001b[0m\u001b[1;33m]\u001b[0m\u001b[1;33m\u001b[0m\u001b[1;33m\u001b[0m\u001b[0m\n\u001b[0;32m    625\u001b[0m         \u001b[1;32mwhile\u001b[0m \u001b[0mamt\u001b[0m \u001b[1;33m>\u001b[0m \u001b[1;36m0\u001b[0m\u001b[1;33m:\u001b[0m\u001b[1;33m\u001b[0m\u001b[1;33m\u001b[0m\u001b[0m\n\u001b[1;32m--> 626\u001b[1;33m             \u001b[0mchunk\u001b[0m \u001b[1;33m=\u001b[0m \u001b[0mself\u001b[0m\u001b[1;33m.\u001b[0m\u001b[0mfp\u001b[0m\u001b[1;33m.\u001b[0m\u001b[0mread\u001b[0m\u001b[1;33m(\u001b[0m\u001b[0mmin\u001b[0m\u001b[1;33m(\u001b[0m\u001b[0mamt\u001b[0m\u001b[1;33m,\u001b[0m \u001b[0mMAXAMOUNT\u001b[0m\u001b[1;33m)\u001b[0m\u001b[1;33m)\u001b[0m\u001b[1;33m\u001b[0m\u001b[1;33m\u001b[0m\u001b[0m\n\u001b[0m\u001b[0;32m    627\u001b[0m             \u001b[1;32mif\u001b[0m \u001b[1;32mnot\u001b[0m \u001b[0mchunk\u001b[0m\u001b[1;33m:\u001b[0m\u001b[1;33m\u001b[0m\u001b[1;33m\u001b[0m\u001b[0m\n\u001b[0;32m    628\u001b[0m                 \u001b[1;32mraise\u001b[0m \u001b[0mIncompleteRead\u001b[0m\u001b[1;33m(\u001b[0m\u001b[1;34mb''\u001b[0m\u001b[1;33m.\u001b[0m\u001b[0mjoin\u001b[0m\u001b[1;33m(\u001b[0m\u001b[0ms\u001b[0m\u001b[1;33m)\u001b[0m\u001b[1;33m,\u001b[0m \u001b[0mamt\u001b[0m\u001b[1;33m)\u001b[0m\u001b[1;33m\u001b[0m\u001b[1;33m\u001b[0m\u001b[0m\n",
      "\u001b[1;32m~\\anaconda3\\lib\\socket.py\u001b[0m in \u001b[0;36mreadinto\u001b[1;34m(self, b)\u001b[0m\n\u001b[0;32m    702\u001b[0m         \u001b[1;32mwhile\u001b[0m \u001b[1;32mTrue\u001b[0m\u001b[1;33m:\u001b[0m\u001b[1;33m\u001b[0m\u001b[1;33m\u001b[0m\u001b[0m\n\u001b[0;32m    703\u001b[0m             \u001b[1;32mtry\u001b[0m\u001b[1;33m:\u001b[0m\u001b[1;33m\u001b[0m\u001b[1;33m\u001b[0m\u001b[0m\n\u001b[1;32m--> 704\u001b[1;33m                 \u001b[1;32mreturn\u001b[0m \u001b[0mself\u001b[0m\u001b[1;33m.\u001b[0m\u001b[0m_sock\u001b[0m\u001b[1;33m.\u001b[0m\u001b[0mrecv_into\u001b[0m\u001b[1;33m(\u001b[0m\u001b[0mb\u001b[0m\u001b[1;33m)\u001b[0m\u001b[1;33m\u001b[0m\u001b[1;33m\u001b[0m\u001b[0m\n\u001b[0m\u001b[0;32m    705\u001b[0m             \u001b[1;32mexcept\u001b[0m \u001b[0mtimeout\u001b[0m\u001b[1;33m:\u001b[0m\u001b[1;33m\u001b[0m\u001b[1;33m\u001b[0m\u001b[0m\n\u001b[0;32m    706\u001b[0m                 \u001b[0mself\u001b[0m\u001b[1;33m.\u001b[0m\u001b[0m_timeout_occurred\u001b[0m \u001b[1;33m=\u001b[0m \u001b[1;32mTrue\u001b[0m\u001b[1;33m\u001b[0m\u001b[1;33m\u001b[0m\u001b[0m\n",
      "\u001b[1;32m~\\anaconda3\\lib\\ssl.py\u001b[0m in \u001b[0;36mrecv_into\u001b[1;34m(self, buffer, nbytes, flags)\u001b[0m\n\u001b[0;32m   1240\u001b[0m                   \u001b[1;34m\"non-zero flags not allowed in calls to recv_into() on %s\"\u001b[0m \u001b[1;33m%\u001b[0m\u001b[1;33m\u001b[0m\u001b[1;33m\u001b[0m\u001b[0m\n\u001b[0;32m   1241\u001b[0m                   self.__class__)\n\u001b[1;32m-> 1242\u001b[1;33m             \u001b[1;32mreturn\u001b[0m \u001b[0mself\u001b[0m\u001b[1;33m.\u001b[0m\u001b[0mread\u001b[0m\u001b[1;33m(\u001b[0m\u001b[0mnbytes\u001b[0m\u001b[1;33m,\u001b[0m \u001b[0mbuffer\u001b[0m\u001b[1;33m)\u001b[0m\u001b[1;33m\u001b[0m\u001b[1;33m\u001b[0m\u001b[0m\n\u001b[0m\u001b[0;32m   1243\u001b[0m         \u001b[1;32melse\u001b[0m\u001b[1;33m:\u001b[0m\u001b[1;33m\u001b[0m\u001b[1;33m\u001b[0m\u001b[0m\n\u001b[0;32m   1244\u001b[0m             \u001b[1;32mreturn\u001b[0m \u001b[0msuper\u001b[0m\u001b[1;33m(\u001b[0m\u001b[1;33m)\u001b[0m\u001b[1;33m.\u001b[0m\u001b[0mrecv_into\u001b[0m\u001b[1;33m(\u001b[0m\u001b[0mbuffer\u001b[0m\u001b[1;33m,\u001b[0m \u001b[0mnbytes\u001b[0m\u001b[1;33m,\u001b[0m \u001b[0mflags\u001b[0m\u001b[1;33m)\u001b[0m\u001b[1;33m\u001b[0m\u001b[1;33m\u001b[0m\u001b[0m\n",
      "\u001b[1;32m~\\anaconda3\\lib\\ssl.py\u001b[0m in \u001b[0;36mread\u001b[1;34m(self, len, buffer)\u001b[0m\n\u001b[0;32m   1098\u001b[0m         \u001b[1;32mtry\u001b[0m\u001b[1;33m:\u001b[0m\u001b[1;33m\u001b[0m\u001b[1;33m\u001b[0m\u001b[0m\n\u001b[0;32m   1099\u001b[0m             \u001b[1;32mif\u001b[0m \u001b[0mbuffer\u001b[0m \u001b[1;32mis\u001b[0m \u001b[1;32mnot\u001b[0m \u001b[1;32mNone\u001b[0m\u001b[1;33m:\u001b[0m\u001b[1;33m\u001b[0m\u001b[1;33m\u001b[0m\u001b[0m\n\u001b[1;32m-> 1100\u001b[1;33m                 \u001b[1;32mreturn\u001b[0m \u001b[0mself\u001b[0m\u001b[1;33m.\u001b[0m\u001b[0m_sslobj\u001b[0m\u001b[1;33m.\u001b[0m\u001b[0mread\u001b[0m\u001b[1;33m(\u001b[0m\u001b[0mlen\u001b[0m\u001b[1;33m,\u001b[0m \u001b[0mbuffer\u001b[0m\u001b[1;33m)\u001b[0m\u001b[1;33m\u001b[0m\u001b[1;33m\u001b[0m\u001b[0m\n\u001b[0m\u001b[0;32m   1101\u001b[0m             \u001b[1;32melse\u001b[0m\u001b[1;33m:\u001b[0m\u001b[1;33m\u001b[0m\u001b[1;33m\u001b[0m\u001b[0m\n\u001b[0;32m   1102\u001b[0m                 \u001b[1;32mreturn\u001b[0m \u001b[0mself\u001b[0m\u001b[1;33m.\u001b[0m\u001b[0m_sslobj\u001b[0m\u001b[1;33m.\u001b[0m\u001b[0mread\u001b[0m\u001b[1;33m(\u001b[0m\u001b[0mlen\u001b[0m\u001b[1;33m)\u001b[0m\u001b[1;33m\u001b[0m\u001b[1;33m\u001b[0m\u001b[0m\n",
      "\u001b[1;31mConnectionResetError\u001b[0m: [WinError 10054] Connessione in corso interrotta forzatamente dall'host remoto"
     ]
    }
   ],
   "source": [
    "warnings.simplefilter(action='ignore', category=FutureWarning)\n",
    "\n",
    "with open('snapshots_dict.pkl', 'rb') as f:\n",
    "    snapshots_dict = pickle.load(f)\n",
    "\n",
    "for url in tqdm(input_df['url']):\n",
    "\n",
    "    df = pd.DataFrame(columns=['title', 'link', 'published_parsed', 'body'])\n",
    "    for snapshot in tqdm(snapshots_dict[url]):\n",
    "        parsed_list = feedparser.parse(snapshot)['entries']\n",
    "        for parsed in tqdm(parsed_list):\n",
    "            if not any(df['link'] == parsed['link']):\n",
    "                article = {}\n",
    "                article['title'] = parsed['title']\n",
    "                article['link'] = parsed['link']\n",
    "                # Use get method with a default value of None\n",
    "                article['published_parsed'] = parsed.get('published_parsed', None)\n",
    "                article['body'] = (trafilatura.extract(\n",
    "                    trafilatura.fetch_url(article['link'])))\n",
    "                df = df.append(article, ignore_index=True)\n",
    "            # else:\n",
    "            #     print('DOPPIONE')\n",
    "    df.to_excel(f'C://Users//apuza//iCloudDrive//ProjJoul//output_old//{slugify(url)}.xlsx')"
   ]
  },
  {
   "cell_type": "markdown",
   "metadata": {},
   "source": [
    "This is where we merge the files:"
   ]
  },
  {
   "cell_type": "code",
   "execution_count": 15,
   "metadata": {},
   "outputs": [
    {
     "data": {
      "application/vnd.jupyter.widget-view+json": {
       "model_id": "a3cb41d7a7df4e79ae40e04011958164",
       "version_major": 2,
       "version_minor": 0
      },
      "text/plain": [
       "  0%|          | 0/54 [00:00<?, ?it/s]"
      ]
     },
     "metadata": {},
     "output_type": "display_data"
    }
   ],
   "source": [
    "\n",
    "\n",
    "def merge_excel_files(input_folder, output_file):\n",
    "    # Get a list of all Excel files in the input folder\n",
    "    excel_files = [f for f in os.listdir(input_folder) if f.endswith('.xlsx') or f.endswith('.xls')]\n",
    "\n",
    "    # Initialize an empty list to store dataframes\n",
    "    dataframes = []\n",
    "\n",
    "    # Iterate through each file and read it using pandas\n",
    "    for file in tqdm(excel_files):\n",
    "        file_path = os.path.join(input_folder, file)\n",
    "        df = pd.read_excel(file_path)\n",
    "        dataframes.append(df)\n",
    "\n",
    "    # Concatenate all dataframes into one\n",
    "    merged_df = pd.concat(dataframes)\n",
    "\n",
    "    # Write the combined dataframe to a new Excel file\n",
    "    merged_df.to_excel(output_file, index=False)\n",
    "\n",
    "# Example usage\n",
    "input_folder = 'C://Users//apuza//iCloudDrive//ProjJoul//output_old'\n",
    "output_file = 'C://Users//apuza//iCloudDrive//ProjJoul//merged_old_file.xlsx'\n",
    "merge_excel_files(input_folder, output_file)"
   ]
  },
  {
   "cell_type": "markdown",
   "metadata": {},
   "source": [
    "# Pre-Processing"
   ]
  },
  {
   "cell_type": "markdown",
   "metadata": {},
   "source": [
    "With the following function we can preprocess all the file:"
   ]
  },
  {
   "cell_type": "code",
   "execution_count": 2,
   "metadata": {},
   "outputs": [],
   "source": [
    "\n",
    "input_file = \"C://Users//apuza//iCloudDrive//ProjJoul//merged_new_file.xlsx\"\n",
    "from nltk.tokenize import word_tokenize\n",
    "\n",
    "\n",
    "def preprocessing_df(input_file):\n",
    "    df = pd.read_excel(input_file)\n",
    "    indices_to_drop = []\n",
    "    \n",
    "    for index, row in tqdm(df.iterrows()):\n",
    "        article = row['body']\n",
    "        try:\n",
    "            tokens = word_tokenize(article)  # tokenize the article into words\n",
    "            tokens = [w for w in tokens if w.isalpha()]  # deletes punctuation\n",
    "            stopwords = nltk.corpus.stopwords.words(\"english\")\n",
    "            tokens = [w for w in tokens if w.lower() not in stopwords]\n",
    "            tokens = [w.lower() for w in tokens]\n",
    "            df.at[index, 'body'] = ' '.join(tokens) # replace the original article with the preprocessed version\n",
    "        except TypeError:\n",
    "            print(\"number detected\")\n",
    "            indices_to_drop.append(index)\n",
    "\n",
    "    df = df.drop(indices_to_drop)\n",
    "    return df\n",
    "        \n",
    "\n",
    "        "
   ]
  },
  {
   "cell_type": "markdown",
   "metadata": {},
   "source": [
    "With the following function we can preprocess all the words contained in the excel file as \"body\" --> useless unless you want to extract everything as a text:"
   ]
  },
  {
   "cell_type": "code",
   "execution_count": 113,
   "metadata": {},
   "outputs": [],
   "source": [
    "def preprocessing_words(input_file):\n",
    "    df = pd.read_excel(input_file)\n",
    "    indices_to_drop = []\n",
    "    all_words = []  # Initialize an empty list to store words for all articles\n",
    "    \n",
    "    for index, row in df.iterrows():\n",
    "        article = row['body']\n",
    "        try:\n",
    "            words = word_tokenize(article)  # tokenize the article into words\n",
    "            words = [w for w in words if w.isalpha()]  # deletes punctuation\n",
    "            stopwords = nltk.corpus.stopwords.words(\"english\")\n",
    "            words = [w for w in words if w.lower() not in stopwords]\n",
    "            lower_words = [w.lower() for w in words]\n",
    "            all_words.extend(lower_words)  # Append the words of the current article to the all_words list\n",
    "        except TypeError:\n",
    "            print(\"number detected\")\n",
    "            indices_to_drop.append(index)\n",
    "\n",
    "    df = df.drop(indices_to_drop)\n",
    "    return all_words"
   ]
  },
  {
   "cell_type": "code",
   "execution_count": 119,
   "metadata": {},
   "outputs": [
    {
     "data": {
      "application/vnd.jupyter.widget-view+json": {
       "model_id": "0b206f3c60a544fb9e753d383632e607",
       "version_major": 2,
       "version_minor": 0
      },
      "text/plain": [
       "0it [00:00, ?it/s]"
      ]
     },
     "metadata": {},
     "output_type": "display_data"
    },
    {
     "name": "stdout",
     "output_type": "stream",
     "text": [
      "number detected\n",
      "number detected\n",
      "number detected\n"
     ]
    }
   ],
   "source": [
    "df_prep = preprocessing_df(input_file)\n",
    "df_prep.to_excel(\"C://Users//apuza//iCloudDrive//ProjJoul//prep_new.xlsx\", index=False)"
   ]
  },
  {
   "cell_type": "markdown",
   "metadata": {},
   "source": [
    "From now on we assume we have extracted all the news and preprocessed them, so the code now begins by loading the news as already pre-processed:"
   ]
  },
  {
   "cell_type": "code",
   "execution_count": 3,
   "metadata": {},
   "outputs": [],
   "source": [
    "df_prep = pd.read_excel(\"C://Users//apuza//iCloudDrive//ProjJoul//prep_new.xlsx\")"
   ]
  },
  {
   "cell_type": "code",
   "execution_count": 5,
   "metadata": {},
   "outputs": [],
   "source": [
    "##change the date and time:\n",
    "import pandas as pd\n",
    "import time\n",
    "import datetime\n",
    "import re\n",
    "def convert_struct_time_to_date(struct_time_str):\n",
    "    pattern = r'tm_year=(\\d+), tm_mon=(\\d+), tm_mday=(\\d+)'\n",
    "    match = re.search(pattern, struct_time_str)\n",
    "    year, month, day = map(int, match.groups())\n",
    "    return datetime.date(year, month, day)\n",
    "\n",
    "df_prep['date'] = df_prep['published_parsed'].apply(convert_struct_time_to_date)\n",
    "\n",
    "    \n",
    "    \n",
    "    "
   ]
  },
  {
   "cell_type": "code",
   "execution_count": null,
   "metadata": {},
   "outputs": [],
   "source": [
    "words = preprocessing_words(input_file)"
   ]
  },
  {
   "cell_type": "code",
   "execution_count": 66,
   "metadata": {},
   "outputs": [],
   "source": [
    "text = \"\"\n",
    "for article in df_prep['body']:\n",
    "    text += \" \"\n",
    "    text += article"
   ]
  },
  {
   "cell_type": "code",
   "execution_count": 79,
   "metadata": {},
   "outputs": [
    {
     "name": "stdout",
     "output_type": "stream",
     "text": [
      "Displaying 5 of 842 matches:\n",
      "king p also worst year since central banks globally moved zero even negative in\n",
      "id rates higher risks system central banks rescue drop dime quite frankly much \n",
      "sponse federal reserve major central banks jacked interest rates causing global\n",
      " year marred fears recession central banks hiked rates globally stoxx rose supp\n",
      "xx ended sharp losses driven central banks aggressive policy tightening rein so\n"
     ]
    }
   ],
   "source": [
    "text1 = nltk.Text(words)\n",
    "text1.concordance(\"banks\", lines=5)"
   ]
  },
  {
   "cell_type": "markdown",
   "metadata": {},
   "source": [
    "# Sentiment Analysis:"
   ]
  },
  {
   "cell_type": "code",
   "execution_count": 6,
   "metadata": {},
   "outputs": [
    {
     "data": {
      "application/vnd.jupyter.widget-view+json": {
       "model_id": "cca94ff3f3cd4a9994a8e9b99abaaada",
       "version_major": 2,
       "version_minor": 0
      },
      "text/plain": [
       "  0%|          | 0/1887 [00:00<?, ?it/s]"
      ]
     },
     "metadata": {},
     "output_type": "display_data"
    }
   ],
   "source": [
    "from nltk.sentiment import SentimentIntensityAnalyzer\n",
    "sia = SentimentIntensityAnalyzer()\n",
    "scores = []\n",
    "for sentence in tqdm(df_prep['body']):\n",
    "    score = sia.polarity_scores(sentence)\n",
    "    scores.append(score)\n",
    "neg_scores = [score['neg'] for score in scores]\n",
    "neu_scores = [score['neu'] for score in scores]\n",
    "pos_scores = [score['pos'] for score in scores]\n",
    "compound_scores = [score['compound'] for score in scores]\n",
    "\n",
    "# Assign the lists to new columns in the DataFrame\n",
    "df_prep['neg_score'] = neg_scores\n",
    "df_prep['neu_score'] = neu_scores\n",
    "df_prep['pos_score'] = pos_scores\n",
    "df_prep['compound_score'] = compound_scores"
   ]
  },
  {
   "cell_type": "code",
   "execution_count": 131,
   "metadata": {},
   "outputs": [
    {
     "data": {
      "text/plain": [
       "0.055834128245893046"
      ]
     },
     "execution_count": 131,
     "metadata": {},
     "output_type": "execute_result"
    }
   ],
   "source": [
    "df_prep['neg_score'].mean()"
   ]
  },
  {
   "cell_type": "code",
   "execution_count": 38,
   "metadata": {},
   "outputs": [
    {
     "name": "stdout",
     "output_type": "stream",
     "text": [
      "Most negative: James ‘Buster’ Corley of Dave & Buster’s chain dead at 72\n",
      "Most neutral: Bitcoin drops after weekend rally, and DOJ claims SBF tried to influence witness: CNBC Crypto World \n",
      "Most positive: The Oscars are 2 weeks away—Where to watch all 10 best picture nominees from 'TÁR' to 'Top Gun: Maverick'\n"
     ]
    }
   ],
   "source": [
    "negative = df_prep.iloc[df_prep.neg_score.idxmax()]\n",
    "neutral = df_prep.iloc[df_prep.neu_score.idxmax()]\n",
    "positive = df_prep.iloc[df_prep.pos_score.idxmax()]\n",
    "print(f'Most negative: {negative.title}')\n",
    "print(f'Most neutral: {neutral.title} ')\n",
    "print(f'Most positive: {positive.title}')"
   ]
  },
  {
   "cell_type": "code",
   "execution_count": 7,
   "metadata": {},
   "outputs": [],
   "source": [
    "df_prep\n",
    "import numpy as np\n",
    "\n",
    "df_prep['date'] = pd.to_datetime(df_prep['date'])\n",
    "threshold_date = pd.to_datetime('2023-01-01')\n",
    "df_prep = df_prep[df_prep['date'] >= threshold_date]\n",
    "# Normalize the scores\n",
    "df_prep['neu_normalized'] = df_prep['neu_score'] / (df_prep['neu_score'] + df_prep['neg_score'] + df_prep['pos_score'])\n",
    "df_prep['neg_normalized'] = df_prep['neg_score'] / (df_prep['neu_score'] + df_prep['neg_score'] + df_prep['pos_score'])\n",
    "df_prep['pos_normalized'] = df_prep['pos_score'] / (df_prep['neu_score'] + df_prep['neg_score'] + df_prep['pos_score'])\n",
    "\n",
    "# Apply log transformation\n",
    "df_prep['neu_log'] = np.log1p(df_prep['neu_normalized'])\n",
    "df_prep['neg_log'] = np.log1p(df_prep['neg_normalized'])\n",
    "df_prep['pos_log'] = np.log1p(df_prep['pos_normalized'])"
   ]
  },
  {
   "cell_type": "code",
   "execution_count": 9,
   "metadata": {},
   "outputs": [
    {
     "data": {
      "image/png": "[encoded data removed]",
      "text/plain": [
       "<Figure size 1000x500 with 1 Axes>"
      ]
     },
     "metadata": {},
     "output_type": "display_data"
    }
   ],
   "source": [
    "import matplotlib.pyplot as plt\n",
    "\n",
    "# Assuming your DataFrame is named 'df' and it has columns 'date', 'neu', 'neg', and 'pos'\n",
    "\n",
    "# Set the date column as the index\n",
    "df_prep.set_index('date', inplace=True)\n",
    "\n",
    "# Plot the scores over time\n",
    "df_prep[['neu_log', 'neg_log', 'pos_log']].plot(figsize=(10, 5), marker='o')\n",
    "plt.xlabel('Date')\n",
    "plt.ylabel('Scores')\n",
    "plt.title('Sentiment Scores Over Time')\n",
    "plt.legend(['Neutral', 'Negative', 'Positive'])\n",
    "plt.grid(True)\n",
    "plt.show()"
   ]
  },
  {
   "cell_type": "code",
   "execution_count": null,
   "metadata": {},
   "outputs": [],
   "source": [
    "df_agg = df_prep.groupby('date').sum()\n",
    "df_agg"
   ]
  },
  {
   "cell_type": "markdown",
   "metadata": {},
   "source": [
    "## Daily Analysis:"
   ]
  },
  {
   "cell_type": "code",
   "execution_count": 10,
   "metadata": {},
   "outputs": [
    {
     "data": {
      "image/png": "[encoded data removed]",
      "text/plain": [
       "<Figure size 1000x500 with 1 Axes>"
      ]
     },
     "metadata": {},
     "output_type": "display_data"
    },
    {
     "data": {
      "text/plain": [
       "<Figure size 640x480 with 0 Axes>"
      ]
     },
     "metadata": {},
     "output_type": "display_data"
    }
   ],
   "source": [
    "df_agg = df_prep.groupby('date').sum()\n",
    "\n",
    "# Plot the scores over time\n",
    "df_agg[['neg_log']].plot(figsize=(10, 5), marker='o')\n",
    "plt.xlabel('Date')\n",
    "plt.ylabel('Scores')\n",
    "plt.title('Sentiment Scores Over Time')\n",
    "plt.legend([ 'Negative'])\n",
    "plt.grid(True)\n",
    "plt.show()\n",
    "plt.savefig('sentiment_nltk_neg.png')"
   ]
  },
  {
   "cell_type": "markdown",
   "metadata": {},
   "source": [
    "## Weekly Analysis:"
   ]
  },
  {
   "cell_type": "code",
   "execution_count": 11,
   "metadata": {},
   "outputs": [
    {
     "data": {
      "image/png": "[encoded data removed]",
      "text/plain": [
       "<Figure size 1000x500 with 1 Axes>"
      ]
     },
     "metadata": {},
     "output_type": "display_data"
    },
    {
     "data": {
      "text/plain": [
       "<Figure size 640x480 with 0 Axes>"
      ]
     },
     "metadata": {},
     "output_type": "display_data"
    }
   ],
   "source": [
    "df_prep['date'] = df_prep['published_parsed'].apply(convert_struct_time_to_date)\n",
    "# Convert the 'date' column to a DatetimeIndex\n",
    "df_prep['date'] = pd.to_datetime(df_prep['date'])\n",
    "df_prep = df_prep.set_index('date')\n",
    "\n",
    "# Resample to weekly frequency and sum the scores\n",
    "df_agg = df_prep.resample('W').mean()# aggregate daily scores to weekly scores\n",
    "\n",
    "# Plot the scores over time\n",
    "df_agg[['neg_log']].plot(figsize=(10, 5), marker='o')\n",
    "plt.xlabel('Date')\n",
    "plt.ylabel('Scores')\n",
    "plt.title('Sentiment Scores Over Time')\n",
    "plt.legend([ 'Negative'])\n",
    "plt.grid(True)\n",
    "plt.show()\n",
    "plt.savefig('sentiment_nltk_neg.png')"
   ]
  },
  {
   "cell_type": "markdown",
   "metadata": {},
   "source": [
    "# Sentiment Analysis using loughran mcdonald dictionary:"
   ]
  },
  {
   "cell_type": "code",
   "execution_count": null,
   "metadata": {},
   "outputs": [],
   "source": [
    "import pandas as pd\n",
    "import nltk\n",
    "from nltk.tokenize import word_tokenize\n",
    "\n",
    "# Load Loughran-McDonald dictionary\n",
    "def load_loughran_mcdonald_dictionary(file_path):\n",
    "    df_dict  = pd.read_excel(file_path)\n",
    "    positive_words = set(df_dict[df_dict['Positive'] > 0]['Word'].str.lower())\n",
    "    negative_words = set(df_dict[df_dict['Negative'] > 0]['Word'].str.lower())\n",
    "\n",
    "    return positive_words, negative_words\n",
    "\n",
    "def sentiment_score(text, positive_words, negative_words):\n",
    "    words = word_tokenize(text)\n",
    "    pos_count = sum(1 for word in tqdm(words) if word in positive_words)\n",
    "    neg_count = sum(1 for word in tqdm(words) if word in negative_words)\n",
    "    return pos_count - neg_count\n",
    "\n",
    "# Load input data\n",
    "df_prep_mc = pd.read_excel(\"C://Users//apuza//iCloudDrive//ProjJoul//prep_new.xlsx\")\n",
    "output_file = \"C://Users//apuza//iCloudDrive//ProjJoul//sentiment_new_macdonald.xlsx\"\n",
    "dictionary_file = \"C://Users//apuza//iCloudDrive//ProjJoul//dictionary//Loughran-McDonald_MasterDictionary_1993-2021.xlsx\"\n",
    "\n",
    "\n",
    "positive_words, negative_words = load_loughran_mcdonald_dictionary(dictionary_file)\n",
    "\n",
    "\n",
    "# Calculate sentiment scores for each article\n",
    "df_prep_mc['sentiment_score'] = df_prep['body'].apply(lambda text: sentiment_score(text, positive_words, negative_words))\n",
    "\n",
    "# Save the results to a new Excel file\n",
    "df_prep_mc.to_excel(output_file, index=False)"
   ]
  },
  {
   "cell_type": "code",
   "execution_count": 35,
   "metadata": {},
   "outputs": [],
   "source": [
    "##change the date and time:\n",
    "import pandas as pd\n",
    "import time\n",
    "import datetime\n",
    "import re\n",
    "import numpy as np\n",
    "def convert_struct_time_to_date(struct_time_str):\n",
    "    pattern = r'tm_year=(\\d+), tm_mon=(\\d+), tm_mday=(\\d+)'\n",
    "    match = re.search(pattern, struct_time_str)\n",
    "    year, month, day = map(int, match.groups())\n",
    "    return datetime.date(year, month, day)\n",
    "\n",
    "df_prep_mc['date'] = df_prep['published_parsed'].apply(convert_struct_time_to_date)\n",
    "df_prep_mc['date'] = pd.to_datetime(df_prep_mc['date'])\n",
    "threshold_date = pd.to_datetime('2023-01-01')\n",
    "df_prep_mc = df_prep_mc[df_prep_mc['date'] >= threshold_date]\n",
    "\n",
    "# Normalize the scores\n",
    "min_value = df_prep_mc['sentiment_score'].min()\n",
    "max_value = df_prep_mc['sentiment_score'].max()\n",
    "df_prep_mc['normalized_values'] = (df_prep_mc['sentiment_score'] - min_value) / (max_value - min_value)\n",
    "\n",
    "\n",
    "\n",
    "# Apply log transformation\n",
    "df_prep_mc['norm_log'] = np.log1p(df_prep_mc['normalized_values'])\n"
   ]
  },
  {
   "cell_type": "code",
   "execution_count": 37,
   "metadata": {},
   "outputs": [
    {
     "data": {
      "image/png": "[encoded data removed]",
      "text/plain": [
       "<Figure size 1000x500 with 1 Axes>"
      ]
     },
     "metadata": {},
     "output_type": "display_data"
    },
    {
     "data": {
      "text/plain": [
       "<Figure size 640x480 with 0 Axes>"
      ]
     },
     "metadata": {},
     "output_type": "display_data"
    }
   ],
   "source": [
    "df_agg_mc = df_prep_mc.groupby('date').sum()\n",
    "\n",
    "import matplotlib.pyplot as plt\n",
    "\n",
    "# Plot the scores over time\n",
    "df_agg_mc[['norm_log']].plot(figsize=(10, 5), marker='o')\n",
    "plt.xlabel('Date')\n",
    "plt.ylabel('Scores')\n",
    "plt.title('Sentiment Scores Over Time')\n",
    "plt.legend([ 'Negative'])\n",
    "plt.grid(True)\n",
    "plt.show()\n",
    "plt.savefig('sentiment_nltk_neg.png')"
   ]
  }
 ],
 "metadata": {
  "kernelspec": {
   "display_name": "Python 3 (ipykernel)",
   "language": "python",
   "name": "python3"
  },
  "language_info": {
   "codemirror_mode": {
    "name": "ipython",
    "version": 3
   },
   "file_extension": ".py",
   "mimetype": "text/x-python",
   "name": "python",
   "nbconvert_exporter": "python",
   "pygments_lexer": "ipython3",
   "version": "3.9.13"
  }
 },
 "nbformat": 4,
 "nbformat_minor": 2
}
